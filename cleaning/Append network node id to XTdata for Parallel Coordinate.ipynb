{
 "cells": [
  {
   "cell_type": "markdown",
   "metadata": {},
   "source": [
    "### 필요없을듯!"
   ]
  },
  {
   "cell_type": "code",
   "execution_count": 1,
   "metadata": {
    "collapsed": true
   },
   "outputs": [],
   "source": [
    "import csv\n",
    "import json\n"
   ]
  },
  {
   "cell_type": "markdown",
   "metadata": {},
   "source": [
    "<h3> load network data </h3>"
   ]
  },
  {
   "cell_type": "code",
   "execution_count": 3,
   "metadata": {},
   "outputs": [],
   "source": [
    "# read all network data\n",
    "platform = \"courseTalk\"\n",
    "# platform = \"classCentral\"\n",
    "net_list = []\n",
    "with open(\"./MOOC_Network_data/output/t1_\"+platform + \"_network.json\", \"r\", encoding='utf-8') as file:\n",
    "    net_list.append(json.load(file))\n",
    "    \n",
    "with open(\"./MOOC_Network_data/output/t2_\"+platform + \"_network.json\", \"r\", encoding='utf-8') as file:\n",
    "    net_list.append(json.load(file))\n",
    "    \n",
    "with open(\"./MOOC_Network_data/output/t3_\" + platform + \"_network.json\", \"r\", encoding='utf-8') as file:\n",
    "    net_list.append(json.load(file))\n",
    "\n",
    "with open(\"./MOOC_Network_data/output/t4_\" + platform + \"_network.json\", \"r\", encoding='utf-8') as file:\n",
    "    net_list.append(json.load(file))"
   ]
  },
  {
   "cell_type": "code",
   "execution_count": 6,
   "metadata": {},
   "outputs": [
    {
     "data": {
      "text/plain": [
       "{'area_color': 'rgb(77,50,117)',\n",
       " 'attributes': {'area': 'Physical Science and Engineering',\n",
       "  'betweeb': '108.959525931585',\n",
       "  'eigen': '0.0175155775486111',\n",
       "  'in.degree': '2.0',\n",
       "  'index': 'CourseTalk-1016',\n",
       "  'name': '69983',\n",
       "  'out.degree': '1.0',\n",
       "  'provider': 'edX',\n",
       "  'school': 'McGill University',\n",
       "  'subject': 'Chemistry',\n",
       "  'title': 'Food for Thought'},\n",
       " 'color': 'rgb(246,103,160)',\n",
       " 'course_id': 0,\n",
       " 'id': 'n229',\n",
       " 'label': 'n229',\n",
       " 'size': 31.832225799560547,\n",
       " 'x': 733.8416748046875,\n",
       " 'y': 2492.526611328125}"
      ]
     },
     "execution_count": 6,
     "metadata": {},
     "output_type": "execute_result"
    }
   ],
   "source": [
    "net_list[0]['nodes'][0]"
   ]
  },
  {
   "cell_type": "markdown",
   "metadata": {},
   "source": [
    "<h3> extract unique id, course, "
   ]
  }
 ],
 "metadata": {
  "kernelspec": {
   "display_name": "Python 3",
   "language": "python",
   "name": "python3"
  },
  "language_info": {
   "codemirror_mode": {
    "name": "ipython",
    "version": 3
   },
   "file_extension": ".py",
   "mimetype": "text/x-python",
   "name": "python",
   "nbconvert_exporter": "python",
   "pygments_lexer": "ipython3",
   "version": "3.5.3"
  }
 },
 "nbformat": 4,
 "nbformat_minor": 2
}
