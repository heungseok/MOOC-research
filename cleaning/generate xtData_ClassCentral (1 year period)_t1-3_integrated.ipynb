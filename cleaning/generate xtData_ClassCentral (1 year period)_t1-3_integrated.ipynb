{
 "cells": [
  {
   "cell_type": "code",
   "execution_count": 1,
   "metadata": {
    "collapsed": true
   },
   "outputs": [],
   "source": [
    "import csv\n",
    "import datetime\n"
   ]
  },
  {
   "cell_type": "code",
   "execution_count": 2,
   "metadata": {},
   "outputs": [
    {
     "name": "stdout",
     "output_type": "stream",
     "text": [
      "3153\n"
     ]
    }
   ],
   "source": [
    "## read course Data set\n",
    "courseList = []\n",
    "with open(\"./MOOC_data/xtData/(cleand)ClassCentral_course.csv\", \"r\") as csvfile:\n",
    "    reader = csv.DictReader(csvfile)\n",
    "    for row in reader:\n",
    "        courseList.append(row)\n",
    "        \n",
    "print(len(courseList))"
   ]
  },
  {
   "cell_type": "code",
   "execution_count": 3,
   "metadata": {},
   "outputs": [
    {
     "name": "stdout",
     "output_type": "stream",
     "text": [
      "20903\n"
     ]
    }
   ],
   "source": [
    "## read review Data set\n",
    "reviewList = []\n",
    "with open(\"./MOOC_data/xtData/(Date_Adjusted)ClassCentral_review_renewed.csv\", \"r\") as csvfile:\n",
    "    reader = csv.DictReader(csvfile)\n",
    "    for row in reader:\n",
    "        reviewList.append(row)\n",
    "print(len(reviewList))"
   ]
  },
  {
   "cell_type": "code",
   "execution_count": 4,
   "metadata": {},
   "outputs": [
    {
     "name": "stdout",
     "output_type": "stream",
     "text": [
      "{'user_url': '/u/143184', 'courses': ['/mooc/2353/coursera-chinese-for-beginners']}\n"
     ]
    }
   ],
   "source": [
    "userList = []\n",
    "with open(\"./MOOC_data/xtData/classCentral_userData.csv\", \"r\") as csvfile:\n",
    "    reader = csv.DictReader(csvfile)\n",
    "    for row in reader:\n",
    "        flag = False\n",
    "        for index, user in enumerate(userList):\n",
    "            \n",
    "            if user['user_url'] == row['user_url']:\n",
    "                userList[index]['courses'].append(row['course_url'])\n",
    "                flag = True\n",
    "                \n",
    "        if flag == False:\n",
    "            userList.append(dict({\n",
    "                'user_url': row['user_url'],\n",
    "                'courses': [row['course_url']]\n",
    "            \n",
    "            }))\n",
    "        \n",
    "len(userList)\n",
    "print(userList[2])"
   ]
  },
  {
   "cell_type": "code",
   "execution_count": 5,
   "metadata": {},
   "outputs": [
    {
     "data": {
      "text/plain": [
       "{'course_length (week)': '13',\n",
       " 'description': 'Class Central Course Rank #1 in Subjects > Education & Teaching > Test Prep This test preparation course, developed by the experts who create, administer and score the TOEFL?test, will help English language learners improve their skills. The TOEFL?test is the world’s most trusted and widely accepted English-language assessment. It has helped millions of people achieve their dreams to study, work or live abroad. More than 9,000 institutions of higher education, government agencies and organizations worldwide accept TOEFL?scores for making important decisions. This course will help you understand what you can do to achieve your best TOEFL test score. Instructors will guide you through each section (Reading, Listening, Speaking and Writing) and, using archived past test questions, will explain the kinds of questions you can expect. You will receive valuable advice, including how to register for the test, how it is scored and how to prepare for test day. This course is highly interactive, using videos, sample questions with explanations, short quizzes and collaborative discussion boards. During the weeks covering Speaking and Writing, the team that developed the TOEFL test will review a handful of your responses and provide evaluation and feedback. In addition, there will be free resources and discounted test prep offers throughout the course. During this course, you will also have access to actual test materials from retired tests. Finally, you will receive valuable insider tips to help you do your best on the TOEFL test so you can apply to the university or job of your dreams. Who takes the TOEFL?test? More than 30 million people from all over the world have taken the TOEFL?test to demonstrate their English-language proficiency. Students planning to study at an institution or university Candidates for scholarships and professional certification English-language learners who want to track their progress Students and workers applying for visas in certain countries Special Offer: All students who upgrade to a verified certificate will receive a free copy of The Official Guide to the TOEFL® Test eBook, valued at $40. This bestselling guide comes directly from the developers of the test, with three full-length practice tests and skill-building tips to help you do your best.',\n",
       " 'effort (per_week)': '3',\n",
       " 'language': 'English',\n",
       " 'level': 'Introductory',\n",
       " 'price': '49',\n",
       " 'provider': 'edX',\n",
       " 'rating': '5',\n",
       " 'review_count': '2',\n",
       " 'school': 'ETS',\n",
       " 'session (opening date)': '2014-09-15',\n",
       " 'subject': 'Test Prep',\n",
       " 'subject (origin platform)': 'Language',\n",
       " 'title (adjusted)': 'TOEFL® Test Preparation: The Insider’s Guide',\n",
       " 'type': 'FREE audit/Pay for certificate',\n",
       " 'url': 'https://www.class-central.com/mooc/6344/edx-toefl-test-preparation-the-insider-s-guide'}"
      ]
     },
     "execution_count": 5,
     "metadata": {},
     "output_type": "execute_result"
    }
   ],
   "source": [
    "courseList[0]"
   ]
  },
  {
   "cell_type": "markdown",
   "metadata": {},
   "source": [
    "<h3> Generate directed course network edgelist </h3>"
   ]
  },
  {
   "cell_type": "code",
   "execution_count": 7,
   "metadata": {
    "collapsed": true
   },
   "outputs": [],
   "source": [
    "## 사용자, 사용자의 수강리스트 만들기.\n",
    "\n",
    "reviewers =[]\n",
    "for review in reviewList:\n",
    "    \n",
    "    \n",
    "    # reviewer id가 없을 경우 continue\n",
    "    if review['reviewer_url'] == \"null\":\n",
    "        continue\n",
    "        \n",
    "    \n",
    "    # reviewers list 를 돌면서 course 추가\n",
    "    flag = False\n",
    "    for index, re in enumerate(reviewers):\n",
    "        \n",
    "        \n",
    "        if re['reviewer'] == review['reviewer_url']:\n",
    "            reviewers[index]['courses'].append(dict({\n",
    "                    'date': review['review_date'],\n",
    "                    'course': review['url']\n",
    "                }))\n",
    "            flag = True\n",
    "            \n",
    "            \n",
    "    \n",
    "    if flag == False:\n",
    "        reviewers.append(dict({\n",
    "            'reviewer': review['reviewer_url'],\n",
    "            'courses': [dict({\n",
    "                'date': review['review_date'],\n",
    "                'course': review['url']\n",
    "            })]\n",
    "            \n",
    "        }))\n",
    "        "
   ]
  },
  {
   "cell_type": "code",
   "execution_count": 8,
   "metadata": {
    "collapsed": true
   },
   "outputs": [],
   "source": [
    "final_t1_edges = []\n",
    "final_t2_edges = []\n",
    "\n",
    "final_t1_nodes = []\n",
    "final_t2_nodes = []\n"
   ]
  },
  {
   "cell_type": "code",
   "execution_count": 10,
   "metadata": {
    "collapsed": true
   },
   "outputs": [],
   "source": [
    "\n",
    "# course directed edge list 생성\n",
    "for re in reviewers:\n",
    "    t1_edges = []\n",
    "    t2_edges = []\n",
    "\n",
    "    t1_nodes = []\n",
    "    t2_nodes = []\n",
    "       \n",
    "    for co in re['courses']:\n",
    "\n",
    "               \n",
    "        date = datetime.datetime.strptime(co['date'], \"%Y-%m-%d\") \n",
    "        \n",
    "        if date.year == 2013:\n",
    "\n",
    "            # T1: \n",
    "            if date.month > 6 and date.month <= 12:\n",
    "                t1_nodes.append(dict({\n",
    "                    'course': co['course'],\n",
    "                    'date': co['date']           \n",
    "                }))\n",
    "        \n",
    "        elif date.year == 2014:\n",
    "            \n",
    "            if date.month > 0 and date.month < 7:\n",
    "                t1_nodes.append(dict({\n",
    "                    'course': co['course'],\n",
    "                    'date': co['date']           \n",
    "                }))\n",
    "                \n",
    "            # T2: \n",
    "            else:\n",
    "                t1_nodes.append(dict({\n",
    "                    'course': co['course'],\n",
    "                    'date': co['date']           \n",
    "                }))\n",
    "                \n",
    "\n",
    "        elif date.year == 2015:\n",
    "            \n",
    "            if date.month > 0 and date.month < 7:\n",
    "                t1_nodes.append(dict({\n",
    "                    'course': co['course'],\n",
    "                    'date': co['date']           \n",
    "                }))\n",
    "                \n",
    "            # T3: 15.7~12\n",
    "            else:\n",
    "                t1_nodes.append(dict({\n",
    "                    'course': co['course'],\n",
    "                    'date': co['date']           \n",
    "                }))\n",
    "                \n",
    "        elif date.year == 2016:\n",
    "            \n",
    "            if date.month > 0 and date.month < 7:\n",
    "                t1_nodes.append(dict({\n",
    "                    'course': co['course'],\n",
    "                    'date': co['date']           \n",
    "                }))\n",
    "                \n",
    "            # T4\n",
    "            else:\n",
    "                t2_nodes.append(dict({\n",
    "                    'course': co['course'],\n",
    "                    'date': co['date']           \n",
    "                }))\n",
    "                \n",
    "        elif date.year == 2017:\n",
    "            \n",
    "            if date.month > 0 and date.month < 7:\n",
    "            \n",
    "                t2_nodes.append(dict({\n",
    "                        'course': co['course'],\n",
    "                        'date': co['date']           \n",
    "                    }))\n",
    "    \n",
    "    # 날짜별 sorting\n",
    "    t1_nodes.sort(key=lambda item:item['date'], reverse=False)\n",
    "    t2_nodes.sort(key=lambda item:item['date'], reverse=False)\n",
    "        \n",
    "    # 같은 vertex time에 있는 노드가 두개 이상인지 체크, 2개 이상일 경우 date 비교 후 edgelist에 추가\n",
    "        \n",
    "    final_t1_edges.extend(get_edgelist(t1_nodes, re['reviewer']))\n",
    "    final_t2_edges.extend(get_edgelist(t2_nodes, re['reviewer']))\n",
    "        \n",
    "    final_t1_nodes.extend(t1_nodes)\n",
    "    final_t2_nodes.extend(t2_nodes)\n",
    "    \n"
   ]
  },
  {
   "cell_type": "code",
   "execution_count": 9,
   "metadata": {
    "collapsed": true
   },
   "outputs": [],
   "source": [
    "def get_edgelist(nodes, reviewer_id):\n",
    "    temp_edges = []\n",
    "    base_str = \"https://www.class-central.com\"\n",
    "    for i in range(0, len(nodes)-1):\n",
    "        \n",
    "        \n",
    "        if nodes[i]['date'] == nodes[i+1]['date']:\n",
    "            ## review date가 같을 경우 양방향 edge, i <=> i+1\n",
    "            \n",
    "            ## user List에서 url 매칭 이후 순서 비교해서 edge 형성\n",
    "            for user in userList:\n",
    "                \n",
    "                # 사용자가 같을 경우, 사용자의 강의리스트를 돌면서 index 부여.\n",
    "                if user['user_url'] == reviewer_id:\n",
    "                    first_index = 999\n",
    "                    second_index = 999\n",
    "                    for index, co in enumerate(user['courses']):\n",
    "                        if base_str+co == nodes[i]['course']:\n",
    "                            first_index = index\n",
    "                        elif base_str+co == nodes[i+1]['course']:\n",
    "                            second_index = index\n",
    "                    \n",
    "                    # index 부여 끝.\n",
    "                    \n",
    "                    # index가 초기값과 같으면 양방향 엣지 형성.\n",
    "                    if first_index == 999 or second_index == 999:\n",
    "                        temp_edges.append(dict({\n",
    "                            'from': nodes[i]['course'],\n",
    "                            'to': nodes[i+1]['course']\n",
    "                        }))\n",
    "\n",
    "                        temp_edges.append(dict({\n",
    "                            'from': nodes[i+1]['course'],\n",
    "                            'to': nodes[i]['course']\n",
    "                        }))\n",
    "                    else:\n",
    "                        # 그렇지 않다면 index 비교, 작은쪽이 from\n",
    "                        if first_index < second_index:\n",
    "                            temp_edges.append(dict({\n",
    "                                'from': nodes[i]['course'],\n",
    "                                'to': nodes[i+1]['course']\n",
    "                            }))\n",
    "                        else:\n",
    "                            temp_edges.append(dict({\n",
    "                                'from': nodes[i+1]['course'],\n",
    "                                'to': nodes[i]['course']\n",
    "                            }))\n",
    "                    \n",
    "                else:\n",
    "                    pass\n",
    "                   \n",
    "            \n",
    "            \n",
    "#             print (\"make edge\", nodes[i+1]['course'], nodes[i]['course'])\n",
    "            \n",
    "        else:\n",
    "            ## review date가 다를 경우는 먼저 있는 녀석이 앞에 있음, i => i+1\n",
    "            temp_edges.append(dict({\n",
    "                'from': nodes[i]['course'],\n",
    "                'to': nodes[i+1]['course']\n",
    "            }))\n",
    "#             print (\"make edge\", nodes[i+1]['course'], nodes[i]['course'])\n",
    "            \n",
    "    return temp_edges\n",
    "\n",
    "    "
   ]
  },
  {
   "cell_type": "code",
   "execution_count": 11,
   "metadata": {
    "collapsed": true
   },
   "outputs": [],
   "source": [
    "# write edge list\n",
    "\n",
    "with open('./MOOC_data/xtData/xt_1year(class_central)/edgelist_t1-3(directed).csv', 'w', newline = '') as write_file:\n",
    "    \n",
    "    fieldnames = ['from', 'to']\n",
    "    \n",
    "    dict_writer = csv.DictWriter(write_file, fieldnames)\n",
    "    dict_writer.writeheader()\n",
    "    for row in final_t1_edges:\n",
    "        dict_writer.writerow(row)\n"
   ]
  },
  {
   "cell_type": "code",
   "execution_count": 12,
   "metadata": {
    "collapsed": true
   },
   "outputs": [],
   "source": [
    "# write node list\n",
    "\n",
    "with open('./MOOC_data/xtData/xt_1year(class_central)/nodelist_t1-3(directed).csv', 'w', newline = '') as write_file:\n",
    "    \n",
    "    fieldnames = ['course', 'date']\n",
    "    \n",
    "    dict_writer = csv.DictWriter(write_file, fieldnames)\n",
    "    dict_writer.writeheader()\n",
    "    for row in final_t1_nodes:\n",
    "        dict_writer.writerow(row)\n",
    "        \n"
   ]
  },
  {
   "cell_type": "code",
   "execution_count": 14,
   "metadata": {},
   "outputs": [
    {
     "data": {
      "text/plain": [
       "2497"
      ]
     },
     "execution_count": 14,
     "metadata": {},
     "output_type": "execute_result"
    }
   ],
   "source": [
    "len(final_t1_edges)"
   ]
  },
  {
   "cell_type": "markdown",
   "metadata": {},
   "source": [
    "<h3> (Currently not used) Try to construct network with igraph-python </h3>"
   ]
  },
  {
   "cell_type": "code",
   "execution_count": 60,
   "metadata": {
    "collapsed": true
   },
   "outputs": [],
   "source": [
    "import igraph"
   ]
  },
  {
   "cell_type": "code",
   "execution_count": 152,
   "metadata": {
    "collapsed": true
   },
   "outputs": [],
   "source": [
    "dict_time1 = {\n",
    "    'time': 1,\n",
    "    'edges': [],\n",
    "    'vertexType': [],\n",
    "    'vertexList':[]\n",
    "}\n",
    "dict_time2 = {\n",
    "    'time': 2,\n",
    "    'edges': [],\n",
    "    'vertexType': [],\n",
    "    'vertexList':[]\n",
    "}\n",
    "dict_time3 = {\n",
    "    'time': 3,\n",
    "    'edges': [],\n",
    "    'vertexType': [],\n",
    "    'vertexList':[]\n",
    "}\n",
    "dict_time4 = {\n",
    "    'time': 4,\n",
    "    'edges': [],\n",
    "    'vertexType': [],\n",
    "    'vertexList':[]\n",
    "}\n",
    "dict_time5 = {\n",
    "    'time': 5,\n",
    "    'edges': [],\n",
    "    'vertexType': [],\n",
    "    'vertexList':[]\n",
    "}\n",
    "dict_time6 = {\n",
    "    'time': 6,\n",
    "    'edges': [],\n",
    "    'vertexType': [],\n",
    "    'vertexList':[]\n",
    "}\n",
    "dict_time7 = {\n",
    "    'time': 7,\n",
    "    'edges': [],\n",
    "    'vertexType': [],\n",
    "    'vertexList':[]\n",
    "}\n",
    "dict_time8 = {\n",
    "    'time': 8,\n",
    "    'edges': [],\n",
    "    'vertexType': [],\n",
    "    'vertexList':[]\n",
    "}\n",
    "dict_time9 = {\n",
    "    'time': 9,\n",
    "    'edges': [],\n",
    "    'vertexType': [],\n",
    "    'vertexList':[]\n",
    "}"
   ]
  },
  {
   "cell_type": "code",
   "execution_count": 113,
   "metadata": {
    "collapsed": true
   },
   "outputs": [],
   "source": [
    "temp_list =[]\n",
    "temp_list.append(tuple({\"heungseok\", \"park\"}))\n",
    "temp_list.append(tuple({\"heungseok\", \"park\"}))\n",
    "for review in reviewList:\n",
    "    temp_list.append(tuple({review['reviewer_url'], review['url']}))\n",
    "temp_list[:] = []"
   ]
  },
  {
   "cell_type": "code",
   "execution_count": 136,
   "metadata": {
    "scrolled": true
   },
   "outputs": [
    {
     "ename": "TypeError",
     "evalue": "only numbers, vertex names or igraph.Vertex objects can be converted to vertex IDs",
     "output_type": "error",
     "traceback": [
      "\u001b[1;31m---------------------------------------------------------------------------\u001b[0m",
      "\u001b[1;31mTypeError\u001b[0m                                 Traceback (most recent call last)",
      "\u001b[1;32m<ipython-input-136-9123220efd40>\u001b[0m in \u001b[0;36m<module>\u001b[1;34m()\u001b[0m\n\u001b[1;32m----> 1\u001b[1;33m \u001b[0mg\u001b[0m \u001b[1;33m=\u001b[0m \u001b[0migraph\u001b[0m\u001b[1;33m.\u001b[0m\u001b[0mGraph\u001b[0m\u001b[1;33m.\u001b[0m\u001b[0mBipartite\u001b[0m\u001b[1;33m(\u001b[0m\u001b[0mdict_time3\u001b[0m\u001b[1;33m[\u001b[0m\u001b[1;34m'vertexType'\u001b[0m\u001b[1;33m]\u001b[0m\u001b[1;33m,\u001b[0m \u001b[0mdict_time3\u001b[0m\u001b[1;33m[\u001b[0m\u001b[1;34m'edges'\u001b[0m\u001b[1;33m]\u001b[0m\u001b[1;33m)\u001b[0m\u001b[1;33m\u001b[0m\u001b[0m\n\u001b[0m",
      "\u001b[1;32md:\\Anaconda\\lib\\site-packages\\igraph\\__init__.py\u001b[0m in \u001b[0;36mBipartite\u001b[1;34m(klass, types, *args, **kwds)\u001b[0m\n\u001b[0;32m   2535\u001b[0m           \u001b[0mstores\u001b[0m \u001b[0mthe\u001b[0m \u001b[0mvertex\u001b[0m \u001b[0mclasses\u001b[0m\u001b[1;33m.\u001b[0m\u001b[1;33m\u001b[0m\u001b[0m\n\u001b[0;32m   2536\u001b[0m         \"\"\"\n\u001b[1;32m-> 2537\u001b[1;33m         \u001b[0mresult\u001b[0m \u001b[1;33m=\u001b[0m \u001b[0mklass\u001b[0m\u001b[1;33m.\u001b[0m\u001b[0m_Bipartite\u001b[0m\u001b[1;33m(\u001b[0m\u001b[0mtypes\u001b[0m\u001b[1;33m,\u001b[0m \u001b[1;33m*\u001b[0m\u001b[0margs\u001b[0m\u001b[1;33m,\u001b[0m \u001b[1;33m**\u001b[0m\u001b[0mkwds\u001b[0m\u001b[1;33m)\u001b[0m\u001b[1;33m\u001b[0m\u001b[0m\n\u001b[0m\u001b[0;32m   2538\u001b[0m         \u001b[0mresult\u001b[0m\u001b[1;33m.\u001b[0m\u001b[0mvs\u001b[0m\u001b[1;33m[\u001b[0m\u001b[1;34m\"type\"\u001b[0m\u001b[1;33m]\u001b[0m \u001b[1;33m=\u001b[0m \u001b[1;33m[\u001b[0m\u001b[0mbool\u001b[0m\u001b[1;33m(\u001b[0m\u001b[0mx\u001b[0m\u001b[1;33m)\u001b[0m \u001b[1;32mfor\u001b[0m \u001b[0mx\u001b[0m \u001b[1;32min\u001b[0m \u001b[0mtypes\u001b[0m\u001b[1;33m]\u001b[0m\u001b[1;33m\u001b[0m\u001b[0m\n\u001b[0;32m   2539\u001b[0m         \u001b[1;32mreturn\u001b[0m \u001b[0mresult\u001b[0m\u001b[1;33m\u001b[0m\u001b[0m\n",
      "\u001b[1;31mTypeError\u001b[0m: only numbers, vertex names or igraph.Vertex objects can be converted to vertex IDs"
     ]
    }
   ],
   "source": [
    "g = igraph.Graph.Bipartite(dict_time3['vertexType'], dict_time3['edges'])"
   ]
  },
  {
   "cell_type": "code",
   "execution_count": 122,
   "metadata": {
    "collapsed": true
   },
   "outputs": [],
   "source": [
    "########################### TUPLE ver. #####################\n",
    "## time iteration & construct network\n",
    "bipartite_list = []\n",
    "\n",
    "\n",
    "# review 돌면서 reviewer url이 not null 인 dict(course_url, reviewer_url) list of tuple만들기\n",
    "for review in reviewList:\n",
    "    if review['reviewer_url'] != 'null':\n",
    "\n",
    "        date = datetime.datetime.strptime(review['review_date'], \"%Y-%m-%d\") \n",
    "        if date.year == 2013:\n",
    "\n",
    "            # T1: 13.1~6\n",
    "            if date.month > 0 and date.month < 7:\n",
    "                dict_time1['edges'].append(tuple({review['reviewer_url'],review['url']}))\n",
    "                if review['reviewer_url'] not in dict_time1['vertexList']:\n",
    "                    dict_time1['vertexList'].append(review['reviewer_url'])\n",
    "                    dict_time1['vertexType'].append(0)\n",
    "                if review['url'] not in dict_time1['vertexList']:\n",
    "                    dict_time1['vertexList'].append(review['url'])\n",
    "                    dict_time1['vertexType'].append(1)\n",
    "            # T2: 13.7~12\n",
    "            else:\n",
    "                dict_time2['edges'].append(tuple({review['reviewer_url'],review['url']}))\n",
    "                if review['reviewer_url'] not in dict_time2['vertexList']:\n",
    "                    dict_time2['vertexList'].append(review['reviewer_url'])\n",
    "                    dict_time2['vertexType'].append(0)\n",
    "                if review['url'] not in dict_time2['vertexList']:\n",
    "                    dict_time2['vertexList'].append(review['url'])\n",
    "                    dict_time2['vertexType'].append(1)\n",
    "\n",
    "        elif date.year == 2014:\n",
    "            # T3: 14.1~6\n",
    "            if date.month > 0 and date.month < 7:\n",
    "                dict_time3['edges'].append(tuple({review['reviewer_url'],review['url']}))\n",
    "                if review['reviewer_url'] not in dict_time3['vertexList']:\n",
    "                    dict_time3['vertexList'].append(review['reviewer_url'])\n",
    "                    dict_time3['vertexType'].append(0)\n",
    "                if review['url'] not in dict_time3['vertexList']:\n",
    "                    dict_time3['vertexList'].append(review['url'])\n",
    "                    dict_time3['vertexType'].append(1)\n",
    "            # T4: 14.7~12\n",
    "            else:\n",
    "                dict_time4['edges'].append(tuple({review['reviewer_url'],review['url']}))\n",
    "                if review['reviewer_url'] not in dict_time4['vertexList']:\n",
    "                    dict_time4['vertexList'].append(review['reviewer_url'])\n",
    "                    dict_time4['vertexType'].append(0)\n",
    "                if review['url'] not in dict_time4['vertexList']:\n",
    "                    dict_time4['vertexList'].append(review['url'])\n",
    "                    dict_time4['vertexType'].append(1)\n",
    "\n",
    "        elif date.year == 2015:\n",
    "            # T5: 15.1~6\n",
    "            if date.month > 0 and date.month < 7:\n",
    "                dict_time5['edges'].append(tuple({review['reviewer_url'],review['url']}))\n",
    "                if review['reviewer_url'] not in dict_time5['vertexList']:\n",
    "                    dict_time5['vertexList'].append(review['reviewer_url'])\n",
    "                    dict_time5['vertexType'].append(0)\n",
    "                if review['url'] not in dict_time5['vertexList']:\n",
    "                    dict_time5['vertexList'].append(review['url'])\n",
    "                    dict_time5['vertexType'].append(1)\n",
    "            # T6: 15.7~12\n",
    "            else:\n",
    "                dict_time6['edges'].append(tuple({review['reviewer_url'],review['url']}))\n",
    "                if review['reviewer_url'] not in dict_time6['vertexList']:\n",
    "                    dict_time6['vertexList'].append(review['reviewer_url'])\n",
    "                    dict_time6['vertexType'].append(0)\n",
    "                if review['url'] not in dict_time6['vertexList']:\n",
    "                    dict_time6['vertexList'].append(review['url'])\n",
    "                    dict_time6['vertexType'].append(1)\n",
    "        elif date.year == 2016:\n",
    "            # T7: 16.1~6\n",
    "            if date.month > 0 and date.month < 7:\n",
    "                dict_time7['edges'].append(tuple({review['reviewer_url'],review['url']}))\n",
    "                if review['reviewer_url'] not in dict_time7['vertexList']:\n",
    "                    dict_time7['vertexList'].append(review['reviewer_url'])\n",
    "                    dict_time7['vertexType'].append(0)\n",
    "                if review['url'] not in dict_time7['vertexList']:\n",
    "                    dict_time7['vertexList'].append(review['url'])\n",
    "                    dict_time7['vertexType'].append(1)\n",
    "            # T8: 16.7~12\n",
    "            else:\n",
    "                dict_time8['edges'].append(tuple({ review['reviewer_url'],review['url'] }))\n",
    "                if review['reviewer_url'] not in dict_time8['vertexList']:\n",
    "                    dict_time8['vertexList'].append(review['reviewer_url'])\n",
    "                    dict_time8['vertexType'].append(0)\n",
    "                if review['url'] not in dict_time8['vertexList']:\n",
    "                    dict_time8['vertexList'].append(review['url'])\n",
    "                    dict_time8['vertexType'].append(1)\n",
    "        elif date.year == 2017:\n",
    "            # T9: 17.1~6\n",
    "            if date.month > 0 and date.month < 7:\n",
    "                dict_time9['edges'].append(tuple({ review['reviewer_url'], review['url'] }))\n",
    "                if review['reviewer_url'] not in dict_time9['vertexList']:\n",
    "                    dict_time9['vertexList'].append(review['reviewer_url'])\n",
    "                    dict_time9['vertexType'].append(0)\n",
    "                if review['url'] not in dict_time9['vertexList']:\n",
    "                    dict_time9['vertexList'].append(review['url'])\n",
    "                    dict_time9['vertexType'].append(1)\n",
    "\n",
    "\n",
    "\n"
   ]
  }
 ],
 "metadata": {
  "kernelspec": {
   "display_name": "Python 3",
   "language": "python",
   "name": "python3"
  },
  "language_info": {
   "codemirror_mode": {
    "name": "ipython",
    "version": 3
   },
   "file_extension": ".py",
   "mimetype": "text/x-python",
   "name": "python",
   "nbconvert_exporter": "python",
   "pygments_lexer": "ipython3",
   "version": "3.5.3"
  }
 },
 "nbformat": 4,
 "nbformat_minor": 2
}
