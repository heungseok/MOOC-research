{
 "cells": [
  {
   "cell_type": "code",
   "execution_count": 1,
   "metadata": {
    "collapsed": true
   },
   "outputs": [],
   "source": [
    "import csv\n",
    "import datetime\n"
   ]
  },
  {
   "cell_type": "code",
   "execution_count": 2,
   "metadata": {
    "collapsed": true
   },
   "outputs": [],
   "source": [
    "def cal_freq_of_cliques(raw_cliques):\n",
    "    cliqList = []\n",
    "    for raw in raw_cliques:\n",
    "        \n",
    "        flag = True\n",
    "        for i, cliq in enumerate(cliqList):\n",
    "            \n",
    "            if raw == cliq['cliq']:\n",
    "                flag = False\n",
    "                cliqList[i]['freq'] += 1\n",
    "        if flag:\n",
    "            cliqList.append(dict({\n",
    "                'cliq': raw,\n",
    "                'freq': 1\n",
    "            }))      \n",
    "    \n",
    "    \n",
    "    # sort the clique list by frequency\n",
    "    cliqList.sort(key=lambda item:item['freq'], reverse=True)\n",
    "    \n",
    "    return cliqList\n",
    "            \n",
    "    "
   ]
  },
  {
   "cell_type": "code",
   "execution_count": 3,
   "metadata": {
    "collapsed": true
   },
   "outputs": [],
   "source": [
    "def extract_clique_freq(k, time, attr_type, platform):\n",
    "\n",
    "    ## file read\n",
    "    rawList = []\n",
    "    with open(\"./MOOC_cliques/raw/\"+str(k)+\"-cliques_by_\"+attr_type+\"_t\"+str(time)+\"_\"+platform+\".csv\", \"r\") as csvfile:\n",
    "        reader = csv.DictReader(csvfile)\n",
    "        for row in reader:\n",
    "            temp_list = []\n",
    "            for i in range(k):\n",
    "                temp_list.append(row['V'+str(i+1)])\n",
    "            rawList.append(temp_list)\n",
    "            \n",
    "    ## sort clique element list \n",
    "    for i, cliq in enumerate(rawList):\n",
    "        rawList[i].sort()\n",
    "        \n",
    "    ## calculate freqency of cliques by attr_type\n",
    "    cliqList = cal_freq_of_cliques(rawList)\n",
    "    \n",
    "    ## write file\n",
    "    fieldnames = ['cliq', 'freq']\n",
    "    with open('./MOOC_cliques/k'+str(k)+'_clique_by_'+attr_type+'_'+platform+'_t'+str(time)+ '.csv', 'w', newline='') as write_file:\n",
    "        dict_writer = csv.DictWriter(write_file, fieldnames)\n",
    "        dict_writer.writeheader()\n",
    "        for row in cliqList:\n",
    "            dict_writer.writerow(row)            \n",
    "            \n",
    "    return cliqList\n",
    "    "
   ]
  },
  {
   "cell_type": "code",
   "execution_count": null,
   "metadata": {},
   "outputs": [],
   "source": [
    "# 시간대별로 subject, area별 clique pattern 추출 및 file write\n",
    "for time in range(4):\n",
    "        \n",
    "    cc_cliqList = extract_clique_freq(3, time+1, \"subject\", \"class_central\")\n",
    "    ct_cliqList = extract_clique_freq(3, time+1, \"subject\", \"courseTalk\")\n",
    "    combine_cliqList_byPlatforms(3, time+1, \"subject\", cc_cliqList, ct_cliqList)\n",
    "\n",
    "    cc_cliqList = extract_clique_freq(4, time+1, \"subject\", \"class_central\")\n",
    "    ct_cliqList = extract_clique_freq(4, time+1, \"subject\", \"courseTalk\")\n",
    "    combine_cliqList_byPlatforms(4, time+1, \"subject\", cc_cliqList, ct_cliqList)\n",
    "\n",
    "    cc_cliqList = extract_clique_freq(3, time+1, \"area\", \"class_central\")\n",
    "    ct_cliqList = extract_clique_freq(3, time+1, \"area\", \"courseTalk\")\n",
    "    combine_cliqList_byPlatforms(3, time+1, \"area\", cc_cliqList, ct_cliqList)\n",
    "\n",
    "#     cc_cliqList = extract_clique_freq(4, time+1, \"area\", \"class_central\")\n",
    "#     ct_cliqList = extract_clique_freq(4, time+1, \"area\", \"courseTalk\")\n",
    "#     combine_cliqList_byPlatforms(4, time+1, \"area\", cc_cliqList, ct_cliqList)\n"
   ]
  },
  {
   "cell_type": "code",
   "execution_count": 5,
   "metadata": {
    "collapsed": true
   },
   "outputs": [],
   "source": [
    "def combine_cliqList_byPlatforms(k, time, attr_type, cliqList1, cliqList2):\n",
    "    \n",
    "    for i, cliq in enumerate(cliqList1):\n",
    "                \n",
    "        flag = True\n",
    "        # cliqList1에 존재하는 clique인지 check\n",
    "        for j, tar_cliq in enumerate(cliqList2):\n",
    "            \n",
    "            if tar_cliq['cliq'] == cliq['cliq']:\n",
    "                # 일치하는 clique가 있을 경우 freq add\n",
    "                cliqList2[j]['freq'] += cliq['freq']\n",
    "                flag = False\n",
    "            \n",
    "        # 일치하는 clique가 없을 경우 추가.\n",
    "        if flag:\n",
    "            cliqList2.append(cliq)\n",
    "                        \n",
    "    # sort by frequency\n",
    "    cliqList2.sort(key=lambda item:item['freq'], reverse=True)\n",
    "    ## write file\n",
    "    fieldnames = ['cliq', 'freq']\n",
    "    with open('./MOOC_cliques/(integrate)k'+str(k)+'_clique_by_'+attr_type+'_t'+str(time)+ '.csv', 'w', newline='') as write_file:\n",
    "        dict_writer = csv.DictWriter(write_file, fieldnames)\n",
    "        dict_writer.writeheader()\n",
    "        for row in cliqList2:\n",
    "            dict_writer.writerow(row)\n",
    "    \n",
    "#     return cliqList2\n",
    "    "
   ]
  }
 ],
 "metadata": {
  "kernelspec": {
   "display_name": "Python 3",
   "language": "python",
   "name": "python3"
  },
  "language_info": {
   "codemirror_mode": {
    "name": "ipython",
    "version": 3
   },
   "file_extension": ".py",
   "mimetype": "text/x-python",
   "name": "python",
   "nbconvert_exporter": "python",
   "pygments_lexer": "ipython3",
   "version": "3.5.3"
  }
 },
 "nbformat": 4,
 "nbformat_minor": 2
}
