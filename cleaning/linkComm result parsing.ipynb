{
 "cells": [
  {
   "cell_type": "code",
   "execution_count": 1,
   "metadata": {
    "collapsed": true
   },
   "outputs": [],
   "source": [
    "import csv\n",
    "import re\n"
   ]
  },
  {
   "cell_type": "code",
   "execution_count": 2,
   "metadata": {
    "collapsed": true
   },
   "outputs": [],
   "source": [
    "unique_nodes = []\n",
    "nodes = []\n",
    "with open(\"./linkComm_result/t3_class_central_res_node.csv\") as csvfile:\n",
    "    reader = csv.DictReader(csvfile)\n",
    "    for row in reader:\n",
    "        nodes.append(dict({\n",
    "            'id': row['node'],\n",
    "            'cluster': 'c'+row['cluster']\n",
    "        }))\n",
    "        \n",
    "        if row['node'] not in unique_nodes:\n",
    "            unique_nodes.append(row['node'])\n",
    "                     \n",
    "        "
   ]
  },
  {
   "cell_type": "code",
   "execution_count": 3,
   "metadata": {
    "collapsed": true
   },
   "outputs": [],
   "source": [
    "final_nodes = []\n",
    "\n",
    "for i, node in enumerate(unique_nodes):\n",
    "    \n",
    "    final_nodes.append(dict({\n",
    "        'id': node,\n",
    "        'community': '',\n",
    "        'overlapping_num': 0,\n",
    "        'communities': []\n",
    "        \n",
    "    }))\n",
    "    \n",
    "    # unique node list안의 node id로 탐색\n",
    "    for n in nodes:\n",
    "                \n",
    "        if n['id'] == node:\n",
    "            \n",
    "            if final_nodes[i]['community'] == '':\n",
    "                final_nodes[i]['community'] += n['cluster']\n",
    "                final_nodes[i]['overlapping_num'] += 1\n",
    "            else:\n",
    "                final_nodes[i]['community'] += str(\"+\" + n['cluster'])\n",
    "                final_nodes[i]['overlapping_num'] += 1\n",
    "                    \n",
    "            \n",
    "        \n",
    "    "
   ]
  },
  {
   "cell_type": "markdown",
   "metadata": {},
   "source": [
    "## assign sinlge community by neighbors proportion"
   ]
  },
  {
   "cell_type": "code",
   "execution_count": 4,
   "metadata": {
    "collapsed": true
   },
   "outputs": [],
   "source": [
    "\n",
    "edges = []\n",
    "with open(\"./linkComm_result/t3_class_central_res_edge.csv\") as csvfile:\n",
    "    reader = csv.DictReader(csvfile)\n",
    "    for row in reader:\n",
    "        edges.append(dict({\n",
    "            'source': row['node1'],\n",
    "            'target': row['node2'],\n",
    "            'cluster': 'c'+row['cluster']\n",
    "            \n",
    "        }))\n",
    "        \n",
    "                     \n",
    "        "
   ]
  },
  {
   "cell_type": "code",
   "execution_count": 5,
   "metadata": {},
   "outputs": [],
   "source": [
    "for i, node in enumerate(final_nodes):\n",
    "    \n",
    "    for edge in edges:\n",
    "        if node['id'] == edge['source'] or node['id'] == edge['target']:\n",
    "            \n",
    "            flag = False\n",
    "            for j, c in enumerate(node['communities']):\n",
    "                if c['cluster'] == edge['cluster']:\n",
    "                    final_nodes[i]['communities'][j]['count'] += 1\n",
    "                    flag = True\n",
    "                \n",
    "            if flag != True:\n",
    "                final_nodes[i]['communities'].append(dict({\n",
    "                    'cluster': edge['cluster'],\n",
    "                    'count': 1\n",
    "                }))\n",
    "                \n",
    "    # sort the communities list, and assign the single community by first element\n",
    "    final_nodes[i]['communities'].sort(key=lambda i: i['count'], reverse=True)\n",
    "    final_nodes[i]['single_community'] = final_nodes[i]['communities'][0]['cluster']"
   ]
  },
  {
   "cell_type": "code",
   "execution_count": 6,
   "metadata": {},
   "outputs": [],
   "source": [
    "## remove the communities key\n",
    "for i, node in enumerate(final_nodes):\n",
    "    del final_nodes[i]['communities']\n"
   ]
  },
  {
   "cell_type": "code",
   "execution_count": 7,
   "metadata": {},
   "outputs": [],
   "source": [
    "\n",
    "# write file as csv\n",
    "with open('./linkComm_result/res_node_cc_t3.csv', 'w', newline = '') as write_file:\n",
    "    \n",
    "    fieldnames = ['id', 'community', 'single_community', 'overlapping_num']\n",
    "    \n",
    "    dict_writer = csv.DictWriter(write_file, fieldnames)\n",
    "    dict_writer.writeheader()\n",
    "    dict_writer.writerows(final_nodes)\n"
   ]
  }
 ],
 "metadata": {
  "kernelspec": {
   "display_name": "Python 3",
   "language": "python",
   "name": "python3"
  },
  "language_info": {
   "codemirror_mode": {
    "name": "ipython",
    "version": 3
   },
   "file_extension": ".py",
   "mimetype": "text/x-python",
   "name": "python",
   "nbconvert_exporter": "python",
   "pygments_lexer": "ipython3",
   "version": "3.5.3"
  }
 },
 "nbformat": 4,
 "nbformat_minor": 2
}
