{
 "cells": [
  {
   "cell_type": "code",
   "execution_count": 2,
   "metadata": {
    "collapsed": true
   },
   "outputs": [],
   "source": [
    "import csv\n",
    "import datetime\n"
   ]
  },
  {
   "cell_type": "code",
   "execution_count": 3,
   "metadata": {},
   "outputs": [
    {
     "data": {
      "text/plain": [
       "28377"
      ]
     },
     "execution_count": 3,
     "metadata": {},
     "output_type": "execute_result"
    }
   ],
   "source": [
    "# read course xt data\n",
    "\n",
    "courseList = []\n",
    "with open(\"./MOOC_data/xtData/CourseXTdata.csv\", \"r\") as csvfile:\n",
    "    reader = csv.DictReader(csvfile)\n",
    "    for row in reader:\n",
    "        courseList.append(row)\n",
    "        \n",
    "len(courseList)\n"
   ]
  },
  {
   "cell_type": "code",
   "execution_count": 9,
   "metadata": {},
   "outputs": [
    {
     "data": {
      "text/plain": [
       "3136"
      ]
     },
     "execution_count": 9,
     "metadata": {},
     "output_type": "execute_result"
    }
   ],
   "source": [
    "# read network xt data\n",
    "\n",
    "networkList = []\n",
    "with open(\"./MOOC_data/xtData/network_centrality.csv\", \"r\") as csvfile:\n",
    "    reader = csv.DictReader(csvfile)\n",
    "    for row in reader:\n",
    "        networkList.append(row)\n",
    "        \n",
    "len(networkList)\n"
   ]
  },
  {
   "cell_type": "code",
   "execution_count": 10,
   "metadata": {},
   "outputs": [
    {
     "data": {
      "text/plain": [
       "{'betweenness': '0',\n",
       " 'closeness': '0.000484496',\n",
       " 'degree': '6',\n",
       " 'eigenvector': '0',\n",
       " 'time': '3',\n",
       " 'transitivity': '1',\n",
       " 'url': 'https://www.class-central.com/mooc/422/coursera-functional-programming-principles-in-scala'}"
      ]
     },
     "execution_count": 10,
     "metadata": {},
     "output_type": "execute_result"
    }
   ],
   "source": [
    "networkList[0]"
   ]
  },
  {
   "cell_type": "code",
   "execution_count": 11,
   "metadata": {
    "collapsed": true
   },
   "outputs": [],
   "source": [
    "for i, course in enumerate(courseList):\n",
    "    \n",
    "    for net in networkList:\n",
    "        if course['url'] == net['url'] and course['time'] == net['time']:\n",
    "            courseList[i]['degree'] = net['degree']\n",
    "            courseList[i]['closeness'] = net['closeness']\n",
    "            courseList[i]['betweenness'] = net['betweenness']\n",
    "            courseList[i]['eigenvector'] = net['eigenvector']\n",
    "            courseList[i]['transitivity'] = net['transitivity']\n",
    "                        \n",
    "      \n",
    "    "
   ]
  },
  {
   "cell_type": "code",
   "execution_count": 13,
   "metadata": {
    "collapsed": true
   },
   "outputs": [],
   "source": [
    "with open('./MOOC_data/xtData/CourseXTdata(projection_network).csv', 'w', newline = '') as write_file:\n",
    "    \n",
    "    fieldnames = ['course_id', 'title', 'provider', 'subject', 'school', 'total_rating', 'total_review_count', 'time',\n",
    "                  'time_review_count', 'time_review_value', 'effort_hours (per_week)', 'level', 'price', \n",
    "                  'enrollment_type', 'course_length', 'url', 'degree', 'closeness', 'betweenness', \n",
    "                 'eigenvector', 'transitivity']\n",
    "    \n",
    "    dict_writer = csv.DictWriter(write_file, fieldnames)\n",
    "    dict_writer.writeheader()\n",
    "    for course in courseList:\n",
    "        if 'degree' not in course.keys():\n",
    "            course['degree'] = \"NA\"\n",
    "            course['closeness'] = \"NA\"\n",
    "            course['betweenness'] = \"NA\"\n",
    "            course['eigenvector'] = \"NA\"\n",
    "            course['transitivity'] = \"NA\"\n",
    "                        \n",
    "        dict_writer.writerow(course)\n",
    "            "
   ]
  },
  {
   "cell_type": "code",
   "execution_count": 13,
   "metadata": {
    "collapsed": true
   },
   "outputs": [],
   "source": [
    "with open('./MOOC_data/xtData/CourseXTdata_add_network_set_0.csv', 'w', newline = '') as write_file:\n",
    "    \n",
    "    fieldnames = ['course_id', 'title', 'provider', 'subject', 'school', 'total_rating', 'total_review_count', 'time',\n",
    "                  'time_review_count', 'time_review_value', 'effort_hours (per_week)', 'level', 'price', \n",
    "                  'enrollment_type', 'course_length', 'url', 'degree', 'closeness', 'betweenness', \n",
    "                 'eigenvector', 'transitivity']\n",
    "    \n",
    "    dict_writer = csv.DictWriter(write_file, fieldnames)\n",
    "    dict_writer.writeheader()\n",
    "    for course in courseList:\n",
    "        if 'degree' not in course.keys():\n",
    "            course['degree'] = \"0\"\n",
    "            course['closeness'] = \"0\"\n",
    "            course['betweenness'] = \"0\"\n",
    "            course['eigenvector'] = \"0\"\n",
    "            course['transitivity'] = \"0\"\n",
    "                        \n",
    "        dict_writer.writerow(course)\n",
    "            "
   ]
  },
  {
   "cell_type": "code",
   "execution_count": 9,
   "metadata": {},
   "outputs": [
    {
     "data": {
      "text/plain": [
       "{'course_id': '1',\n",
       " 'course_length': '13',\n",
       " 'effort_hours (per_week)': '3',\n",
       " 'enrollment_type': 'FREE audit/Pay for certificate',\n",
       " 'level': 'Introductory',\n",
       " 'price': '49',\n",
       " 'provider': 'edX',\n",
       " 'school': 'ETS',\n",
       " 'subject': 'Language',\n",
       " 'time': '1',\n",
       " 'time_review_count': '0',\n",
       " 'time_review_value': '0',\n",
       " 'title': 'TOEFL® Test Preparation: The Insider’s Guide',\n",
       " 'total_rating': '5',\n",
       " 'total_review_count': '2',\n",
       " 'url': 'https://www.class-central.com/mooc/6344/edx-toefl-test-preparation-the-insider-s-guide'}"
      ]
     },
     "execution_count": 9,
     "metadata": {},
     "output_type": "execute_result"
    }
   ],
   "source": [
    "courseList[0]"
   ]
  }
 ],
 "metadata": {
  "kernelspec": {
   "display_name": "Python 3",
   "language": "python",
   "name": "python3"
  },
  "language_info": {
   "codemirror_mode": {
    "name": "ipython",
    "version": 3
   },
   "file_extension": ".py",
   "mimetype": "text/x-python",
   "name": "python",
   "nbconvert_exporter": "python",
   "pygments_lexer": "ipython3",
   "version": "3.5.3"
  }
 },
 "nbformat": 4,
 "nbformat_minor": 2
}
