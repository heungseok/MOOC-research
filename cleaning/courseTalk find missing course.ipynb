{
 "cells": [
  {
   "cell_type": "code",
   "execution_count": 2,
   "metadata": {
    "collapsed": true
   },
   "outputs": [],
   "source": [
    "import csv\n",
    "import datetime\n",
    "import re"
   ]
  },
  {
   "cell_type": "code",
   "execution_count": 34,
   "metadata": {},
   "outputs": [
    {
     "name": "stdout",
     "output_type": "stream",
     "text": [
      "4395\n"
     ]
    }
   ],
   "source": [
    "## read course Data set\n",
    "courseList = []\n",
    "with open(\"./MOOC_data/xtData/CourseTalk_courseData_20170613_origin.csv\", \"r\", encoding=\"utf8\") as csvfile:\n",
    "    reader = csv.DictReader(csvfile)\n",
    "    for row in reader:\n",
    "        row['url_adjusted'] = row['url'].replace(\"/enroll?course_id=\", \"\")\n",
    "        row['url_adjusted'] = row['url_adjusted'].replace(\"&direct_enroll=true\", \"\")\n",
    "           \n",
    "        courseList.append(row)\n",
    "        \n",
    "print(len(courseList))"
   ]
  },
  {
   "cell_type": "code",
   "execution_count": 35,
   "metadata": {},
   "outputs": [
    {
     "data": {
      "text/plain": [
       "{'description': 'Spaceflight is exciting, and you don’t have to be a “Rocket Scientist” to share in the excitement! 16.00x makes the basics of spaceflight accessible to everyone. Join MIT Professor Jeffrey Hoffman, a former NASA astronaut who made five spaceflights and was the first astronaut to log 1000 hours on the Space Shuttle, as he teaches you the core principles behind space travel and exploration.?The course will cover how rockets work, how spacecraft move in orbit, how we create artificial environments inside spacecraft to keep astronauts alive and healthy, what it’s like living in a world without gravity, how the human body adapts to space, and how spacewalks happen, plus more. Many lessons will be illustrated with Professor Hoffman’s own experiences in space.?',\n",
       " 'instructor': 'Jeffrey Hoffman',\n",
       " 'price': 'FREE',\n",
       " 'provider': 'edX',\n",
       " 'rating': '5',\n",
       " 'review_count': '12',\n",
       " 'school': 'Massachusetts Institute of Technology',\n",
       " 'title': 'Introduction to Aerospace Engineering: Astronautics and Human Spaceflight',\n",
       " 'url': '/enroll?course_id=36498&direct_enroll=true',\n",
       " 'url_adjusted': '36498',\n",
       " '\\ufeffcourse_id': '36498'}"
      ]
     },
     "execution_count": 35,
     "metadata": {},
     "output_type": "execute_result"
    }
   ],
   "source": [
    "courseList[0]"
   ]
  },
  {
   "cell_type": "code",
   "execution_count": 36,
   "metadata": {},
   "outputs": [
    {
     "name": "stdout",
     "output_type": "stream",
     "text": [
      "214\n"
     ]
    }
   ],
   "source": [
    "missingList = []\n",
    "with open(\"./MOOC_data/xtData/courseTalk_missing.csv\", \"r\", encoding=\"utf8\") as csvfile:\n",
    "    reader = csv.DictReader(csvfile)\n",
    "    for row in reader:\n",
    "         missingList.append(row)\n",
    "        \n",
    "print(len(missingList))"
   ]
  },
  {
   "cell_type": "code",
   "execution_count": 37,
   "metadata": {},
   "outputs": [
    {
     "name": "stdout",
     "output_type": "stream",
     "text": [
      "214\n"
     ]
    }
   ],
   "source": [
    "missedList = []\n",
    "\n",
    "with open('./MOOC_data/xtData/missing_results_origin.csv', 'w', newline = '') as write_file:\n",
    "    \n",
    "    fieldnames = ['title', 'provider', 'school', 'rating', 'review_count', 'language',\n",
    "              'price', 'description', 'url', 'course_id']\n",
    "    \n",
    "    dict_writer = csv.DictWriter(write_file, fieldnames)\n",
    "    dict_writer.writeheader()\n",
    "    \n",
    "    \n",
    "\n",
    "    for miss in missingList:\n",
    "\n",
    "        for course in courseList:\n",
    "            if miss['course_id'] == course['url_adjusted']:\n",
    "                temp_dict = {\n",
    "                    'title': course['title'],\n",
    "                    'provider': course['provider'],\n",
    "                    'school': course['school'],\n",
    "                    'rating': course['rating'],\n",
    "                    'review_count': course['review_count'],\n",
    "                    'price': course['price'],\n",
    "                    'description': course['description'],\n",
    "                    'url': course['url'],\n",
    "                    'course_id': course['url_adjusted']\n",
    "                    \n",
    "                }\n",
    "                missedList.append(temp_dict)\n",
    "                dict_writer.writerow(temp_dict)\n",
    "            \n",
    "print(len(missedList))"
   ]
  },
  {
   "cell_type": "markdown",
   "metadata": {},
   "source": [
    "<h3> Find course data from class Central </h3>"
   ]
  },
  {
   "cell_type": "code",
   "execution_count": 26,
   "metadata": {},
   "outputs": [
    {
     "name": "stdout",
     "output_type": "stream",
     "text": [
      "3153\n"
     ]
    }
   ],
   "source": [
    "## read course Data set\n",
    "courseList = []\n",
    "with open(\"./MOOC_data/xtData/(cleand)ClassCentral_course.csv\", \"r\") as csvfile:\n",
    "    reader = csv.DictReader(csvfile)\n",
    "    for row in reader:\n",
    "                \n",
    "        courseList.append(row)\n",
    "        \n",
    "print(len(courseList))"
   ]
  },
  {
   "cell_type": "code",
   "execution_count": 29,
   "metadata": {},
   "outputs": [
    {
     "data": {
      "text/plain": [
       "dict_keys(['effort (per_week)', 'subject (origin platform)', 'type', 'url', 'language', 'school', 'review_count', 'rating', 'level', 'session (opening date)', 'description', 'course_length (week)', 'provider', 'price', 'title (adjusted)', 'subject'])"
      ]
     },
     "execution_count": 29,
     "metadata": {},
     "output_type": "execute_result"
    }
   ],
   "source": [
    "missedList[0]\n",
    "courseList[0]\n",
    "courseList[0].keys()"
   ]
  },
  {
   "cell_type": "code",
   "execution_count": 32,
   "metadata": {},
   "outputs": [],
   "source": [
    "\n",
    "\n",
    "with open('./MOOC_data/xtData/missing_results.csv', 'w', newline = '') as write_file:\n",
    "    \n",
    "    fieldnames = ['title', 'provider', 'subject', 'subject (origin platform)', 'school', \n",
    "                 'rating','review_count','language','level','effort (per_week)','session (opening date)',\n",
    "                  'course_length (week)', 'price', 'type', 'description', 'url', 'course_id']\n",
    "    \n",
    "    dict_writer = csv.DictWriter(write_file, fieldnames)\n",
    "    dict_writer.writeheader()\n",
    "    \n",
    "    for course in courseList:\n",
    "\n",
    "        for missed in missedList:\n",
    "            if missed['title'] == course['title (adjusted)'] and missed['provider'] == course['provider']:\n",
    "                temp_dict = {\n",
    "                    'title': course['title (adjusted)'],\n",
    "                    'provider': course['provider'],\n",
    "                    'subject': course['subject'],\n",
    "                    'subject (origin platform)': course['subject (origin platform)'],\n",
    "                    'school': course['school'],\n",
    "                    'rating': course['rating'],\n",
    "                    'review_count': course['review_count'],\n",
    "                    'language': course['language'],\n",
    "                    'level': course['level'],\n",
    "                    'effort (per_week)': course['effort (per_week)'],\n",
    "                    'session (opening date)': course['session (opening date)'],\n",
    "                    'course_length (week)': course['course_length (week)'],\n",
    "                    'price': course['price'],\n",
    "                    'type': course['type'],\n",
    "                    'description': course['description'],\n",
    "                    'url': missed['url'],\n",
    "                    'course_id': missed['course_id']\n",
    "                    \n",
    "                }\n",
    "                dict_writer.writerow(temp_dict)\n",
    "                \n"
   ]
  }
 ],
 "metadata": {
  "kernelspec": {
   "display_name": "Python 3",
   "language": "python",
   "name": "python3"
  },
  "language_info": {
   "codemirror_mode": {
    "name": "ipython",
    "version": 3
   },
   "file_extension": ".py",
   "mimetype": "text/x-python",
   "name": "python",
   "nbconvert_exporter": "python",
   "pygments_lexer": "ipython3",
   "version": "3.5.3"
  }
 },
 "nbformat": 4,
 "nbformat_minor": 2
}
