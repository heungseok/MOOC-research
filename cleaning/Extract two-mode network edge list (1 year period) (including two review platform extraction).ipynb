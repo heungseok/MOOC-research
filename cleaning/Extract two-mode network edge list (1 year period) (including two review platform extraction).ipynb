{
 "cells": [
  {
   "cell_type": "code",
   "execution_count": 1,
   "metadata": {
    "collapsed": true
   },
   "outputs": [],
   "source": [
    "import csv\n",
    "import datetime\n",
    "import re"
   ]
  },
  {
   "cell_type": "markdown",
   "metadata": {},
   "source": [
    "## CourseTalk"
   ]
  },
  {
   "cell_type": "code",
   "execution_count": 2,
   "metadata": {},
   "outputs": [
    {
     "name": "stdout",
     "output_type": "stream",
     "text": [
      "3331\n"
     ]
    }
   ],
   "source": [
    "## read course Data set\n",
    "\n",
    "courseList = []\n",
    "with open(\"./MOOC_data/xtData/(cleand_added_missing)Coursetalk_course.csv\", \"r\") as csvfile:\n",
    "    reader = csv.DictReader(csvfile)\n",
    "    for row in reader:\n",
    "        row['url'] = row['url'].replace(\"/enroll?course_id=\", \"\")\n",
    "        row['url'] = row['url'].replace(\"&direct_enroll=true\", \"\")\n",
    "           \n",
    "        courseList.append(row)\n",
    "        \n",
    "print(len(courseList))"
   ]
  },
  {
   "cell_type": "code",
   "execution_count": 3,
   "metadata": {},
   "outputs": [
    {
     "name": "stdout",
     "output_type": "stream",
     "text": [
      "23604\n"
     ]
    }
   ],
   "source": [
    "## read review Data set\n",
    "reviewList = []\n",
    "with open(\"./MOOC_data/xtData/CourseTalk_review_renewed.csv\", \"r\") as csvfile:\n",
    "    reader = csv.DictReader(csvfile)\n",
    "    for row in reader:\n",
    "        row['review_value'] = int(row['review_value'])/2 # 0~10 scale이므로 2로 나누어 0~5 scale로 변환.\n",
    "        reviewList.append(row)\n",
    "print(len(reviewList))"
   ]
  },
  {
   "cell_type": "markdown",
   "metadata": {},
   "source": [
    "<h3> Generate two-mode (course, student) network edgelist </h3>"
   ]
  },
  {
   "cell_type": "code",
   "execution_count": 4,
   "metadata": {
    "collapsed": true
   },
   "outputs": [],
   "source": [
    "dict_time1 = {\n",
    "    'time': 1,\n",
    "    'edges': [],\n",
    "    \n",
    "}\n",
    "dict_time2 = {\n",
    "    'time': 2,\n",
    "    'edges': [],\n",
    "    \n",
    "}\n",
    "dict_time3 = {\n",
    "    'time': 3,\n",
    "    'edges': [],\n",
    "    \n",
    "}\n",
    "dict_time4 = {\n",
    "    'time': 4,\n",
    "    'edges': [],\n",
    "    \n",
    "}"
   ]
  },
  {
   "cell_type": "code",
   "execution_count": 5,
   "metadata": {
    "collapsed": true
   },
   "outputs": [],
   "source": [
    "\n",
    "## time iteration & construct network\n",
    "# review 돌면서 reviewer url이 not null 인 dict(course_url, reviewer_url) list만들기\n",
    "for review in reviewList:\n",
    "    if review['reviewer_url'] != 'null':\n",
    "\n",
    "        date = datetime.datetime.strptime(review['review_date'], \"%Y-%m-%d\") \n",
    "        if date.year == 2013:\n",
    "\n",
    "            # T1\n",
    "            if date.month > 6 and date.month <= 12:\n",
    "                dict_time1['edges'].append(dict({\n",
    "                    'reviewer': review['reviewer_url'],\n",
    "                    'course': review['course_id'],\n",
    "                    'date': review['review_date']\n",
    "                }))\n",
    "                                \n",
    "\n",
    "        elif date.year == 2014:\n",
    "            \n",
    "            if date.month > 0 and date.month < 7:\n",
    "                dict_time1['edges'].append(dict({\n",
    "                    'reviewer': review['reviewer_url'],\n",
    "                    'course': review['course_id'],\n",
    "                    'date': review['review_date']\n",
    "                }))\n",
    "                \n",
    "            # T2\n",
    "            else:\n",
    "                dict_time2['edges'].append(dict({\n",
    "                    'reviewer': review['reviewer_url'],\n",
    "                    'course': review['course_id'],\n",
    "                    'date': review['review_date']\n",
    "                }))\n",
    "                \n",
    "        elif date.year == 2015:\n",
    "            \n",
    "            if date.month > 0 and date.month < 7:\n",
    "                dict_time2['edges'].append(dict({\n",
    "                    'reviewer': review['reviewer_url'],\n",
    "                    'course': review['course_id'],\n",
    "                    'date': review['review_date']\n",
    "                }))\n",
    "                \n",
    "            # T3\n",
    "            else:\n",
    "                dict_time3['edges'].append(dict({\n",
    "                    'reviewer': review['reviewer_url'],\n",
    "                    'course': review['course_id'],\n",
    "                    'date': review['review_date']\n",
    "                }))\n",
    "                \n",
    "        elif date.year == 2016:\n",
    "            \n",
    "            if date.month > 0 and date.month < 7:\n",
    "                dict_time3['edges'].append(dict({\n",
    "                    'reviewer': review['reviewer_url'],\n",
    "                    'course': review['course_id'],\n",
    "                    'date': review['review_date']\n",
    "                }))\n",
    "                \n",
    "            # T3\n",
    "            else:\n",
    "                dict_time4['edges'].append(dict({\n",
    "                    'reviewer': review['reviewer_url'],\n",
    "                    'course': review['course_id'],\n",
    "                    'date': review['review_date']\n",
    "                }))\n",
    "                \n",
    "        elif date.year == 2017:\n",
    "            # T9: 17.1~6\n",
    "            if date.month > 0 and date.month < 7:\n",
    "                dict_time4['edges'].append(dict({\n",
    "                    'reviewer': review['reviewer_url'],\n",
    "                    'course': review['course_id'],\n",
    "                    'date': review['review_date']\n",
    "                }))\n",
    "                \n",
    "\n",
    "\n"
   ]
  },
  {
   "cell_type": "code",
   "execution_count": 6,
   "metadata": {
    "collapsed": true
   },
   "outputs": [],
   "source": [
    "with open('./MOOC_data/xtData/xt_1year(course_talk)/two_mode_edgelist_1.csv', 'w', newline = '') as write_file:\n",
    "    \n",
    "    fieldnames = ['course', 'reviewer', 'date']\n",
    "    \n",
    "    dict_writer = csv.DictWriter(write_file, fieldnames)\n",
    "    dict_writer.writeheader()\n",
    "    dict_writer.writerows(dict_time1['edges'])\n",
    "    \n",
    "with open('./MOOC_data/xtData/xt_1year(course_talk)/two_mode_edgelist_2.csv', 'w', newline = '') as write_file:\n",
    "    \n",
    "    fieldnames = ['course', 'reviewer', 'date']\n",
    "    \n",
    "    dict_writer = csv.DictWriter(write_file, fieldnames)\n",
    "    dict_writer.writeheader()\n",
    "    dict_writer.writerows(dict_time2['edges'])\n",
    "\n",
    "with open('./MOOC_data/xtData/xt_1year(course_talk)/two_mode_edgelist_3.csv', 'w', newline = '') as write_file:\n",
    "    \n",
    "    fieldnames = ['course', 'reviewer', 'date']\n",
    "    \n",
    "    dict_writer = csv.DictWriter(write_file, fieldnames)\n",
    "    dict_writer.writeheader()\n",
    "    dict_writer.writerows(dict_time3['edges'])\n",
    "    \n",
    "with open('./MOOC_data/xtData/xt_1year(course_talk)/two_mode_edgelist_4.csv', 'w', newline = '') as write_file:\n",
    "    \n",
    "    fieldnames = ['course', 'reviewer', 'date']\n",
    "    \n",
    "    dict_writer = csv.DictWriter(write_file, fieldnames)\n",
    "    dict_writer.writeheader()\n",
    "    dict_writer.writerows(dict_time4['edges'])\n",
    "    \n"
   ]
  },
  {
   "cell_type": "markdown",
   "metadata": {},
   "source": [
    "## ClassCentral"
   ]
  },
  {
   "cell_type": "code",
   "execution_count": 7,
   "metadata": {},
   "outputs": [
    {
     "name": "stdout",
     "output_type": "stream",
     "text": [
      "3153\n"
     ]
    }
   ],
   "source": [
    "## read course Data set\n",
    "courseList = []\n",
    "with open(\"./MOOC_data/xtData/(cleand)ClassCentral_course.csv\", \"r\") as csvfile:\n",
    "    reader = csv.DictReader(csvfile)\n",
    "    for row in reader:\n",
    "        courseList.append(row)\n",
    "        \n",
    "print(len(courseList))"
   ]
  },
  {
   "cell_type": "code",
   "execution_count": 8,
   "metadata": {},
   "outputs": [
    {
     "name": "stdout",
     "output_type": "stream",
     "text": [
      "20903\n"
     ]
    }
   ],
   "source": [
    "## read review Data set\n",
    "reviewList = []\n",
    "with open(\"./MOOC_data/xtData/(Date_Adjusted)ClassCentral_review_renewed.csv\", \"r\") as csvfile:\n",
    "    reader = csv.DictReader(csvfile)\n",
    "    for row in reader:\n",
    "        reviewList.append(row)\n",
    "print(len(reviewList))"
   ]
  },
  {
   "cell_type": "code",
   "execution_count": 11,
   "metadata": {},
   "outputs": [
    {
     "data": {
      "text/plain": [
       "{'helpful_rate': '0',\n",
       " 'helpful_rate_neg': '0',\n",
       " 'institution': 'ETS',\n",
       " 'platform': 'edX',\n",
       " 'review_contents': 'I started taking this Online course for free on 26th of January, 2017. I really find this Course helpful for me taking TOEFL test. And, i would love to express my sincere gratitude to all of the Team and EdX. You people are so much help for people who are interested in learning English and taking test. For the people who could not afford Course fee. The course is interesting and lecturers are making the subject simple to understand. Thank you all very much! Best Regards, DA',\n",
       " 'review_count': '2',\n",
       " 'review_date': '2017-02-08',\n",
       " 'review_sum': '5',\n",
       " 'reviewer_id': 'Amra Uz',\n",
       " 'reviewer_url': '/u/289067',\n",
       " 'single_rating_value': '5',\n",
       " 'title': 'TOEFL® Test Preparation: The Insider’s Guide',\n",
       " 'url': 'https://www.class-central.com/mooc/6344/edx-toefl-test-preparation-the-insider-s-guide'}"
      ]
     },
     "execution_count": 11,
     "metadata": {},
     "output_type": "execute_result"
    }
   ],
   "source": [
    "reviewList[0]"
   ]
  },
  {
   "cell_type": "code",
   "execution_count": 13,
   "metadata": {
    "collapsed": true
   },
   "outputs": [],
   "source": [
    "dict_time1 = {\n",
    "    'time': 1,\n",
    "    'edges': [],\n",
    "    \n",
    "}\n",
    "dict_time2 = {\n",
    "    'time': 2,\n",
    "    'edges': [],\n",
    "    \n",
    "}\n",
    "dict_time3 = {\n",
    "    'time': 3,\n",
    "    'edges': [],\n",
    "    \n",
    "}\n",
    "dict_time4 = {\n",
    "    'time': 4,\n",
    "    'edges': [],\n",
    "    \n",
    "}"
   ]
  },
  {
   "cell_type": "code",
   "execution_count": 14,
   "metadata": {},
   "outputs": [],
   "source": [
    "\n",
    "## time iteration & construct network\n",
    "# review 돌면서 reviewer url이 not null 인 dict(course_url, reviewer_url) list만들기\n",
    "for review in reviewList:\n",
    "    if review['reviewer_url'] != 'null':\n",
    "\n",
    "        date = datetime.datetime.strptime(review['review_date'], \"%Y-%m-%d\") \n",
    "        if date.year == 2013:\n",
    "\n",
    "            # T1\n",
    "            if date.month > 6 and date.month <= 12:\n",
    "                dict_time1['edges'].append(dict({\n",
    "                    'reviewer': review['reviewer_url'],\n",
    "                    'course': review['url'],\n",
    "                    'date': review['review_date']\n",
    "                }))\n",
    "                                \n",
    "\n",
    "        elif date.year == 2014:\n",
    "            \n",
    "            if date.month > 0 and date.month < 7:\n",
    "                dict_time1['edges'].append(dict({\n",
    "                    'reviewer': review['reviewer_url'],\n",
    "                    'course': review['url'],\n",
    "                    'date': review['review_date']\n",
    "                }))\n",
    "                \n",
    "            # T2\n",
    "            else:\n",
    "                dict_time2['edges'].append(dict({\n",
    "                    'reviewer': review['reviewer_url'],\n",
    "                    'course': review['url'],\n",
    "                    'date': review['review_date']\n",
    "                }))\n",
    "                \n",
    "        elif date.year == 2015:\n",
    "            \n",
    "            if date.month > 0 and date.month < 7:\n",
    "                dict_time2['edges'].append(dict({\n",
    "                    'reviewer': review['reviewer_url'],\n",
    "                    'course': review['url'],\n",
    "                    'date': review['review_date']\n",
    "                }))\n",
    "                \n",
    "            # T3\n",
    "            else:\n",
    "                dict_time3['edges'].append(dict({\n",
    "                    'reviewer': review['reviewer_url'],\n",
    "                    'course': review['url'],\n",
    "                    'date': review['review_date']\n",
    "                }))\n",
    "                \n",
    "        elif date.year == 2016:\n",
    "            \n",
    "            if date.month > 0 and date.month < 7:\n",
    "                dict_time3['edges'].append(dict({\n",
    "                    'reviewer': review['reviewer_url'],\n",
    "                    'course': review['url'],\n",
    "                    'date': review['review_date']\n",
    "                }))\n",
    "                \n",
    "            # T3\n",
    "            else:\n",
    "                dict_time4['edges'].append(dict({\n",
    "                    'reviewer': review['reviewer_url'],\n",
    "                    'course': review['url'],\n",
    "                    'date': review['review_date']\n",
    "                }))\n",
    "                \n",
    "        elif date.year == 2017:\n",
    "            # T9: 17.1~6\n",
    "            if date.month > 0 and date.month < 7:\n",
    "                dict_time4['edges'].append(dict({\n",
    "                    'reviewer': review['reviewer_url'],\n",
    "                    'course': review['url'],\n",
    "                    'date': review['review_date']\n",
    "                }))\n",
    "                \n",
    "\n",
    "\n"
   ]
  },
  {
   "cell_type": "code",
   "execution_count": 15,
   "metadata": {
    "collapsed": true
   },
   "outputs": [],
   "source": [
    "with open('./MOOC_data/xtData/xt_1year(class_central)/two_mode_edgelist_1.csv', 'w', newline = '') as write_file:\n",
    "    \n",
    "    fieldnames = ['course', 'reviewer', 'date']\n",
    "    \n",
    "    dict_writer = csv.DictWriter(write_file, fieldnames)\n",
    "    dict_writer.writeheader()\n",
    "    dict_writer.writerows(dict_time1['edges'])\n",
    "    \n",
    "with open('./MOOC_data/xtData/xt_1year(class_central)/two_mode_edgelist_2.csv', 'w', newline = '') as write_file:\n",
    "    \n",
    "    fieldnames = ['course', 'reviewer', 'date']\n",
    "    \n",
    "    dict_writer = csv.DictWriter(write_file, fieldnames)\n",
    "    dict_writer.writeheader()\n",
    "    dict_writer.writerows(dict_time2['edges'])\n",
    "\n",
    "with open('./MOOC_data/xtData/xt_1year(class_central)/two_mode_edgelist_3.csv', 'w', newline = '') as write_file:\n",
    "    \n",
    "    fieldnames = ['course', 'reviewer', 'date']\n",
    "    \n",
    "    dict_writer = csv.DictWriter(write_file, fieldnames)\n",
    "    dict_writer.writeheader()\n",
    "    dict_writer.writerows(dict_time3['edges'])\n",
    "    \n",
    "with open('./MOOC_data/xtData/xt_1year(class_central)/two_mode_edgelist_4.csv', 'w', newline = '') as write_file:\n",
    "    \n",
    "    fieldnames = ['course', 'reviewer', 'date']\n",
    "    \n",
    "    dict_writer = csv.DictWriter(write_file, fieldnames)\n",
    "    dict_writer.writeheader()\n",
    "    dict_writer.writerows(dict_time4['edges'])\n",
    "    \n"
   ]
  }
 ],
 "metadata": {
  "kernelspec": {
   "display_name": "Python 3",
   "language": "python",
   "name": "python3"
  },
  "language_info": {
   "codemirror_mode": {
    "name": "ipython",
    "version": 3
   },
   "file_extension": ".py",
   "mimetype": "text/x-python",
   "name": "python",
   "nbconvert_exporter": "python",
   "pygments_lexer": "ipython3",
   "version": "3.5.3"
  }
 },
 "nbformat": 4,
 "nbformat_minor": 2
}
