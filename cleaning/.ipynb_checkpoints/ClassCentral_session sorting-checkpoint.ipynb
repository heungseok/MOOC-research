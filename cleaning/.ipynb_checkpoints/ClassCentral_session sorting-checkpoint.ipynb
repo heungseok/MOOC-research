{
 "cells": [
  {
   "cell_type": "code",
   "execution_count": 17,
   "metadata": {
    "collapsed": true
   },
   "outputs": [],
   "source": [
    "import csv\n",
    "import datetime"
   ]
  },
  {
   "cell_type": "code",
   "execution_count": 27,
   "metadata": {},
   "outputs": [
    {
     "name": "stdout",
     "output_type": "stream",
     "text": [
      "3160\n"
     ]
    }
   ],
   "source": [
    "\n",
    "courseList = []\n",
    "\n",
    "with open(\"./MOOC_data/(Integrated)MOOC_CourseData_20170623.csv\", 'r', encoding='utf-8') as csvfile:\n",
    "    reader = csv.reader(csvfile, delimiter=',')\n",
    "    for index, row in enumerate(reader):\n",
    "        if index == 0:\n",
    "            continue\n",
    "        title = row[0]\n",
    "        provider = row[1]\n",
    "        subject = row[2]\n",
    "        school = row[3]\n",
    "        rating = row[4]\n",
    "        review_count = row[5]\n",
    "        language = row[6]\n",
    "        course_hours = row[7]\n",
    "        if row[8] == '':\n",
    "            session = 'null'\n",
    "        else:\n",
    "            session = datetime.datetime.strptime(row[8], \"%Y-%m-%d\")\n",
    "        course_length = row[9]\n",
    "        description = row[12]\n",
    "        url = row[13]\n",
    "        \n",
    "        course = {\n",
    "                'title': title,\n",
    "                'provider': provider,\n",
    "                'subject': subject,\n",
    "                'school': school,\n",
    "                'rating': rating,\n",
    "                'review_count': review_count,\n",
    "                'language': language,\n",
    "                'course_hours': course_hours,\n",
    "                'session': session,\n",
    "                'course_length': course_length,\n",
    "                'description': description,\n",
    "                'url': url\n",
    "\n",
    "        }\n",
    "\n",
    "                \n",
    "        # index가 1일 경우 저장.\n",
    "        if index == 1:\n",
    "            courseList.append(course)\n",
    "        else:\n",
    "            flag = False\n",
    "            for i, co in enumerate(courseList):\n",
    "                \n",
    "                if str(co['url']) == str(url):\n",
    "                    flag = True\n",
    "                    # url이 같을 경우 session 비교\n",
    "                    if co['session'] < session:\n",
    "                        pass\n",
    "                       # 이미 저장된 session이 더 빠르면 do nothing\n",
    "                    else:\n",
    "                        # 저장된 session이 더 늦을 경우에는 replacement\n",
    "#                         print(\"change session from \", co['session'], \" to \", session)\n",
    "                        courseList[i]['session'] = session\n",
    "                        \n",
    "                \n",
    "                \n",
    "            if flag == False:\n",
    "            # url이 다를경우 courseList 에 append \n",
    "               \n",
    "                courseList.append(course)\n",
    "                    \n",
    "        \n",
    "    \n",
    "    print(len(courseList))\n",
    "                    \n",
    "                        \n",
    "  \n",
    "        \n",
    "        "
   ]
  },
  {
   "cell_type": "code",
   "execution_count": 30,
   "metadata": {},
   "outputs": [
    {
     "ename": "TypeError",
     "evalue": "'delimiter' is an invalid keyword argument for this function",
     "output_type": "error",
     "traceback": [
      "\u001b[1;31m---------------------------------------------------------------------------\u001b[0m",
      "\u001b[1;31mTypeError\u001b[0m                                 Traceback (most recent call last)",
      "\u001b[1;32m<ipython-input-30-b8535a1b261c>\u001b[0m in \u001b[0;36m<module>\u001b[1;34m()\u001b[0m\n\u001b[0;32m      3\u001b[0m fieldnames = ['title', 'provider', 'subject', 'school', 'rating', 'review_count', 'language',\n\u001b[0;32m      4\u001b[0m                   'course_hours', 'session', 'course_length', 'description', 'url']\n\u001b[1;32m----> 5\u001b[1;33m \u001b[1;32mwith\u001b[0m \u001b[0mopen\u001b[0m\u001b[1;33m(\u001b[0m\u001b[1;34m'./MOOC_data/(Integrated)MOOC_CourseData_20170623-only starting session date.csv'\u001b[0m\u001b[1;33m,\u001b[0m \u001b[1;34m'w'\u001b[0m\u001b[1;33m,\u001b[0m \u001b[0mdelimiter\u001b[0m \u001b[1;33m=\u001b[0m\u001b[1;34m\"\\t\"\u001b[0m\u001b[1;33m,\u001b[0m \u001b[0mnewline\u001b[0m \u001b[1;33m=\u001b[0m \u001b[1;34m''\u001b[0m\u001b[1;33m,\u001b[0m \u001b[0mencoding\u001b[0m\u001b[1;33m=\u001b[0m\u001b[1;34m'utf-8'\u001b[0m\u001b[1;33m)\u001b[0m \u001b[1;32mas\u001b[0m \u001b[0mwrite_file\u001b[0m\u001b[1;33m:\u001b[0m\u001b[1;33m\u001b[0m\u001b[0m\n\u001b[0m\u001b[0;32m      6\u001b[0m \u001b[1;33m\u001b[0m\u001b[0m\n\u001b[0;32m      7\u001b[0m     \u001b[0mdict_writer\u001b[0m \u001b[1;33m=\u001b[0m \u001b[0mcsv\u001b[0m\u001b[1;33m.\u001b[0m\u001b[0mDictWriter\u001b[0m\u001b[1;33m(\u001b[0m\u001b[0mwrite_file\u001b[0m\u001b[1;33m,\u001b[0m \u001b[0mfieldnames\u001b[0m\u001b[1;33m)\u001b[0m\u001b[1;33m\u001b[0m\u001b[0m\n",
      "\u001b[1;31mTypeError\u001b[0m: 'delimiter' is an invalid keyword argument for this function"
     ]
    }
   ],
   "source": [
    "\n",
    "fieldnames = courseList[0].keys()\n",
    "fieldnames = ['title', 'provider', 'subject', 'school', 'rating', 'review_count', 'language',\n",
    "                  'course_hours', 'session', 'course_length', 'description', 'url']\n",
    "with open('./MOOC_data/(Integrated)MOOC_CourseData_20170623-only starting session date.csv', 'w', newline = '', encoding='utf-8') as write_file:\n",
    "\n",
    "    dict_writer = csv.DictWriter(write_file, fieldnames)\n",
    "    dict_writer.writeheader()\n",
    "    for co in courseList:\n",
    "        co['session'] = co['session']\n",
    "        dict_writer.writerow(co)\n",
    "    \n",
    "    "
   ]
  }
 ],
 "metadata": {
  "celltoolbar": "Raw Cell Format",
  "kernelspec": {
   "display_name": "Python 3",
   "language": "python",
   "name": "python3"
  },
  "language_info": {
   "codemirror_mode": {
    "name": "ipython",
    "version": 3
   },
   "file_extension": ".py",
   "mimetype": "text/x-python",
   "name": "python",
   "nbconvert_exporter": "python",
   "pygments_lexer": "ipython3",
   "version": "3.5.3"
  }
 },
 "nbformat": 4,
 "nbformat_minor": 2
}
