{
 "cells": [
  {
   "cell_type": "code",
   "execution_count": 3,
   "metadata": {
    "collapsed": true
   },
   "outputs": [],
   "source": [
    "import csv\n",
    "import re\n"
   ]
  },
  {
   "cell_type": "code",
   "execution_count": 14,
   "metadata": {},
   "outputs": [],
   "source": [
    "unique_nodes = []\n",
    "nodes = []\n",
    "with open(\"./linkComm_result/t3_class_central_res_node.csv\") as csvfile:\n",
    "    reader = csv.DictReader(csvfile)\n",
    "    for row in reader:\n",
    "        nodes.append(dict({\n",
    "            'id': row['node'],\n",
    "            'cluster': 'c'+row['cluster']\n",
    "        }))\n",
    "        \n",
    "        if row['node'] not in unique_nodes:\n",
    "            unique_nodes.append(row['node'])\n",
    "                     \n",
    "        "
   ]
  },
  {
   "cell_type": "code",
   "execution_count": 19,
   "metadata": {},
   "outputs": [],
   "source": [
    "final_nodes = []\n",
    "\n",
    "for i, node in enumerate(unique_nodes):\n",
    "    \n",
    "    final_nodes.append(dict({\n",
    "        'id': node,\n",
    "        'community': '',\n",
    "        'overlapping_num': 0\n",
    "        \n",
    "    }))\n",
    "    \n",
    "    # unique node list안의 node id로 탐색\n",
    "    for n in nodes:\n",
    "                \n",
    "        if n['id'] == node:\n",
    "            \n",
    "            if final_nodes[i]['community'] == '':\n",
    "                final_nodes[i]['community'] += n['cluster']\n",
    "                final_nodes[i]['overlapping_num'] += 1\n",
    "            else:\n",
    "                final_nodes[i]['community'] += str(\"+\" + n['cluster'])\n",
    "                final_nodes[i]['overlapping_num'] += 1\n",
    "                    \n",
    "            \n",
    "        \n",
    "    "
   ]
  },
  {
   "cell_type": "code",
   "execution_count": 21,
   "metadata": {},
   "outputs": [],
   "source": [
    "# write file as csv\n",
    "with open('./linkComm_result/res_node_cc_t3.csv', 'w', newline = '') as write_file:\n",
    "    \n",
    "    fieldnames = ['id', 'community', 'overlapping_num']\n",
    "    \n",
    "    dict_writer = csv.DictWriter(write_file, fieldnames)\n",
    "    dict_writer.writeheader()\n",
    "    dict_writer.writerows(final_nodes)\n"
   ]
  }
 ],
 "metadata": {
  "kernelspec": {
   "display_name": "Python 3",
   "language": "python",
   "name": "python3"
  },
  "language_info": {
   "codemirror_mode": {
    "name": "ipython",
    "version": 3
   },
   "file_extension": ".py",
   "mimetype": "text/x-python",
   "name": "python",
   "nbconvert_exporter": "python",
   "pygments_lexer": "ipython3",
   "version": "3.5.3"
  }
 },
 "nbformat": 4,
 "nbformat_minor": 2
}
