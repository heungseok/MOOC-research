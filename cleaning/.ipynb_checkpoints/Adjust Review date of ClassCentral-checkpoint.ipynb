{
 "cells": [
  {
   "cell_type": "code",
   "execution_count": 1,
   "metadata": {
    "collapsed": true
   },
   "outputs": [],
   "source": [
    "import csv\n",
    "import datetime"
   ]
  },
  {
   "cell_type": "code",
   "execution_count": 2,
   "metadata": {
    "collapsed": true
   },
   "outputs": [],
   "source": [
    "## old reviewFile read\n",
    "old_reviewList = []\n",
    "with open(\"./MOOC_data/classCentral_reviewData_for_dateAdjusting_20160704.csv\", \"r\") as csvfile:\n",
    "    reader = csv.DictReader(csvfile)\n",
    "    for row in reader:\n",
    "        old_reviewList.append(row)\n",
    "               "
   ]
  },
  {
   "cell_type": "code",
   "execution_count": 3,
   "metadata": {
    "collapsed": true
   },
   "outputs": [],
   "source": [
    "## new reviewFile read\n",
    "new_reviewList = []\n",
    "with open(\"./MOOC_data/review_ClassCentral_20170708_only_coursera_edX.csv\", \"r\") as csvfile:\n",
    "    reader = csv.DictReader(csvfile)\n",
    "    for row in reader:\n",
    "        new_reviewList.append(row)\n",
    "        "
   ]
  },
  {
   "cell_type": "code",
   "execution_count": 4,
   "metadata": {},
   "outputs": [
    {
     "data": {
      "text/plain": [
       "{'fixed_review_date': '2017-02-08',\n",
       " 'helpful_rate': '0',\n",
       " 'helpful_rate_neg': '0',\n",
       " 'institution': 'ETS',\n",
       " 'platform': 'edX',\n",
       " 'review_contents': 'I started taking this Online course for free on 26th of January, 2017. I really find this Course helpful for me taking TOEFL test. And, i would love to express my sincere gratitude to all of the Team and EdX. You people are so much help for people who are interested in learning English and taking test. For the people who could not afford Course fee. The course is interesting and lecturers are making the subject simple to understand. Thank you all very much! Best Regards, DA',\n",
       " 'review_count': '2',\n",
       " 'review_date': '5 months ago',\n",
       " 'review_sum': '5',\n",
       " 'reviewer_id': 'Amra Uz',\n",
       " 'reviewer_url': '/u/289067',\n",
       " 'single_rating_value': '5',\n",
       " 'title': 'TOEFL® Test Preparation: The Insider’s Guide',\n",
       " 'url': 'https://www.class-central.com/mooc/6344/edx-toefl-test-preparation-the-insider-s-guide'}"
      ]
     },
     "execution_count": 4,
     "metadata": {},
     "output_type": "execute_result"
    }
   ],
   "source": [
    "new_reviewList[0]"
   ]
  },
  {
   "cell_type": "code",
   "execution_count": 8,
   "metadata": {
    "collapsed": true,
    "scrolled": true
   },
   "outputs": [],
   "source": [
    "\n",
    "# old review: title/review_count/review_sum/reviewer_id/single_rating_value/review_date/reviewer_url/review_contents/url\n",
    "\n",
    "# new review: title/platform/institution/review_count/review_sum/reviewer_id/single_rating_value/review_date/fixed_review_date/\n",
    "# reviewer_url/review_contents/url\n",
    "\n",
    "# new reviewlist를 돌면서 1년전 부터 리뷰 비교 및 수정\n",
    "# 먼저 course url 비교, 일치할 경우 review 비교\n",
    "\n",
    "for index, new in enumerate(new_reviewList):\n",
    "    # 만약 모든 review data 내에서 검색할경우 익명의 review/ 내용없는 review에대해 날짜가 엉킬수 있으므로, review date boundary를 설정해서 검색\n",
    "    if (\"years ago\" in new['review_date']) or (\"year ago\" in new['review_date']) or (\"12 months ago\" in new['review_date']) or (\"11 months ago\" in new['review_date']):\n",
    "                                                                                                                                       \n",
    "        # 리뷰 비교\n",
    "        for old in old_reviewList:\n",
    "                                        \n",
    "            # 강의 url, \n",
    "            if new['url'] == old['url']:\n",
    "                \n",
    "                # reviewer id, reviewer rating, reviewer_url 이 일치할 경우,\n",
    "                if new['reviewer_id'] == old['reviewer_id'] and new['single_rating_value'] == old['single_rating_value'] and new['reviewer_url'] == old['reviewer_url']:\n",
    "                    \n",
    "                    # 그중 reviewer_url이 null인 경우에는  review content 비교 한 뒤 date adjust\n",
    "                    if new['reviewer_url'] == \"null\":\n",
    "                        # review contents( newline, space removed ) 비교해서 같을 경우 review date 수정\n",
    "                        if new['review_contents'].replace('\\n', '').replace('\\r', '').replace(' ', '') == old['review_contents'].replace('\\n', '').replace('\\r', '').replace(' ', ''):\n",
    "                            new_reviewList[index]['fixed_review_date'] = old['review_date'] \n",
    "                        \n",
    "                    # reviewer id가 anonymous가 아닌 경우에는 모든 조건(같은 강의에 같은 사람)이 이미 맞으므로 바로 date adjust\n",
    "                    else:\n",
    "                        new_reviewList[index]['fixed_review_date'] = old['review_date']\n",
    "                        \n",
    "                        \n",
    "                        \n",
    "                        \n",
    "                                                           \n",
    "                # 리뷰 연도가 같을경우    \n",
    "                # if datetime.datetime.strptime(new['fixed_review_date'], \"%Y-%m-%d\").year == datetime.datetime.strptime(old['review_date'], \"%Y-%m-%d\").year:\n",
    "                    \n",
    "                \n",
    "                                                             \n",
    "\n",
    "    else:\n",
    "        continue\n",
    "\n",
    "\n"
   ]
  },
  {
   "cell_type": "code",
   "execution_count": 7,
   "metadata": {},
   "outputs": [
    {
     "data": {
      "text/plain": [
       "dict_keys(['review_count', 'review_contents', 'review_date', 'fixed_review_date', 'platform', 'institution', 'helpful_rate', 'reviewer_url', 'title', 'single_rating_value', 'helpful_rate_neg', 'reviewer_id', 'review_sum', 'url'])"
      ]
     },
     "execution_count": 7,
     "metadata": {},
     "output_type": "execute_result"
    }
   ],
   "source": [
    "new_reviewList[0].keys()"
   ]
  },
  {
   "cell_type": "code",
   "execution_count": 9,
   "metadata": {
    "collapsed": true
   },
   "outputs": [],
   "source": [
    "fieldnames = ['title','platform','institution','review_count','review_sum','reviewer_id','single_rating_value',\n",
    "              'review_date','fixed_review_date', 'reviewer_url', 'helpful_rate', 'helpful_rate_neg', 'review_contents', 'url']\n",
    "with open('./MOOC_data/(Adjusted)review_ClassCentral_20170708_only_coursera_edX.csv', 'w', newline = '') as write_file:\n",
    "\n",
    "    dict_writer = csv.DictWriter(write_file, fieldnames)\n",
    "    dict_writer.writeheader()\n",
    "    dict_writer.writerows(new_reviewList)\n",
    "#     for new in new_reviewList:\n",
    "#         dict_writer.writerow(new)\n",
    "        \n",
    "    "
   ]
  }
 ],
 "metadata": {
  "kernelspec": {
   "display_name": "Python 3",
   "language": "python",
   "name": "python3"
  },
  "language_info": {
   "codemirror_mode": {
    "name": "ipython",
    "version": 3
   },
   "file_extension": ".py",
   "mimetype": "text/x-python",
   "name": "python",
   "nbconvert_exporter": "python",
   "pygments_lexer": "ipython3",
   "version": "3.5.3"
  }
 },
 "nbformat": 4,
 "nbformat_minor": 2
}
