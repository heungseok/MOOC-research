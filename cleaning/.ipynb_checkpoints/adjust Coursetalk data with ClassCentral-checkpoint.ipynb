{
 "cells": [
  {
   "cell_type": "code",
   "execution_count": 251,
   "metadata": {
    "collapsed": true
   },
   "outputs": [],
   "source": [
    "import csv\n",
    "import datetime\n",
    "import re\n"
   ]
  },
  {
   "cell_type": "code",
   "execution_count": 246,
   "metadata": {},
   "outputs": [
    {
     "name": "stdout",
     "output_type": "stream",
     "text": [
      "3153\n"
     ]
    }
   ],
   "source": [
    "## read course Data set from class central\n",
    "courseList = []\n",
    "with open(\"./MOOC_data/xtData/(cleand)ClassCentral_course.csv\", \"r\") as csvfile:\n",
    "    reader = csv.DictReader(csvfile)\n",
    "    for row in reader:\n",
    "        courseList.append(row)\n",
    "        \n",
    "print(len(courseList))"
   ]
  },
  {
   "cell_type": "code",
   "execution_count": 272,
   "metadata": {},
   "outputs": [
    {
     "name": "stdout",
     "output_type": "stream",
     "text": [
      "3125\n"
     ]
    }
   ],
   "source": [
    "## read course data from courseTalk\n",
    "courseTalkList = []\n",
    "with open(\"./MOOC_data/xtData/(cleand)Coursetalk_course.csv\", \"r\") as csvfile:\n",
    "    reader = csv.DictReader(csvfile)\n",
    "    for row in reader:\n",
    "        courseTalkList.append(row)\n",
    "print(len(courseTalkList))"
   ]
  },
  {
   "cell_type": "code",
   "execution_count": 267,
   "metadata": {},
   "outputs": [
    {
     "data": {
      "text/plain": [
       "{'course_length (week)': '13',\n",
       " 'description': 'Class Central Course Rank #1 in Subjects > Education & Teaching > Test Prep This test preparation course, developed by the experts who create, administer and score the TOEFL?test, will help English language learners improve their skills. The TOEFL?test is the world’s most trusted and widely accepted English-language assessment. It has helped millions of people achieve their dreams to study, work or live abroad. More than 9,000 institutions of higher education, government agencies and organizations worldwide accept TOEFL?scores for making important decisions. This course will help you understand what you can do to achieve your best TOEFL test score. Instructors will guide you through each section (Reading, Listening, Speaking and Writing) and, using archived past test questions, will explain the kinds of questions you can expect. You will receive valuable advice, including how to register for the test, how it is scored and how to prepare for test day. This course is highly interactive, using videos, sample questions with explanations, short quizzes and collaborative discussion boards. During the weeks covering Speaking and Writing, the team that developed the TOEFL test will review a handful of your responses and provide evaluation and feedback. In addition, there will be free resources and discounted test prep offers throughout the course. During this course, you will also have access to actual test materials from retired tests. Finally, you will receive valuable insider tips to help you do your best on the TOEFL test so you can apply to the university or job of your dreams. Who takes the TOEFL?test? More than 30 million people from all over the world have taken the TOEFL?test to demonstrate their English-language proficiency. Students planning to study at an institution or university Candidates for scholarships and professional certification English-language learners who want to track their progress Students and workers applying for visas in certain countries Special Offer: All students who upgrade to a verified certificate will receive a free copy of The Official Guide to the TOEFL® Test eBook, valued at $40. This bestselling guide comes directly from the developers of the test, with three full-length practice tests and skill-building tips to help you do your best.',\n",
       " 'effort (per_week)': '3',\n",
       " 'language': 'English',\n",
       " 'level': 'Introductory',\n",
       " 'price': '49',\n",
       " 'provider': 'edX',\n",
       " 'rating': '5',\n",
       " 'review_count': '2',\n",
       " 'school': 'ETS',\n",
       " 'session (opening date)': '2014-09-15',\n",
       " 'subject': 'Test Prep',\n",
       " 'subject (origin platform)': 'Language',\n",
       " 'title (adjusted)': 'TOEFL® Test Preparation: The Insider’s Guide',\n",
       " 'type': 'FREE audit/Pay for certificate',\n",
       " 'url': 'https://www.class-central.com/mooc/6344/edx-toefl-test-preparation-the-insider-s-guide'}"
      ]
     },
     "execution_count": 267,
     "metadata": {},
     "output_type": "execute_result"
    }
   ],
   "source": [
    "courseList[0]"
   ]
  },
  {
   "cell_type": "code",
   "execution_count": 274,
   "metadata": {
    "scrolled": false
   },
   "outputs": [],
   "source": [
    "# iterate coursetalk dataset and compare with classCentral\n",
    "for index, ct in enumerate(courseTalkList):\n",
    "    \n",
    "    temp_title = ct['title']\n",
    "    temp_title = re.sub('[ ?\"]', '', temp_title)\n",
    "    temp_title = re.sub(\"[']\", '', temp_title)\n",
    "    for cc in courseList:\n",
    "        temp_title2 = cc['title (adjusted)']\n",
    "        temp_title2 = re.sub('[ ?\"]', '', temp_title2)\n",
    "        temp_title2 = re.sub(\"[']\", '', temp_title2)\n",
    "        \n",
    "        # 특수문자, 공백 어느정도 거른 후 (모든 특수문자를 제거하면 일치하는 강의명이 많으므로 불가능)\n",
    "        # title matching 일경우, platform 비교\n",
    "        if temp_title == temp_title2:\n",
    "            if ct['provider'] == cc['provider']:\n",
    "                # platform, title이 같을 경우 course data 수정\n",
    "                courseTalkList[index]['title'] = cc['title (adjusted)']\n",
    "                courseTalkList[index]['subject'] = cc['subject']\n",
    "                courseTalkList[index]['school'] = cc['school']\n",
    "                courseTalkList[index]['level'] = cc['level']\n",
    "                courseTalkList[index]['language'] = cc['language']\n",
    "                courseTalkList[index]['effort'] = cc['effort (per_week)']\n",
    "                courseTalkList[index]['course_length (week)'] = cc['course_length (week)']\n",
    "                courseTalkList[index]['price'] = cc['price']\n",
    "                courseTalkList[index]['type'] = cc['type']\n",
    "                courseTalkList[index]['description'] = cc['description']\n",
    "                courseTalkList[index]['session (opening date)'] = cc['session (opening date)']\n",
    "        "
   ]
  },
  {
   "cell_type": "code",
   "execution_count": null,
   "metadata": {
    "collapsed": true
   },
   "outputs": [],
   "source": [
    "with open('./MOOC_data/xtData/(Adjusted)CourseTalk_courseData.csv', 'w', newline = '') as write_file:\n",
    "    \n",
    "    fieldnames = ['title','provider','subject','subject(origin)','school', 'rating', 'review_count',\n",
    "                  'language', 'level', 'effort', 'session (opening date)', 'course_length (week)', \n",
    "                  'price', 'type', 'description', 'url']\n",
    "    \n",
    "    dict_writer = csv.DictWriter(write_file, fieldnames)\n",
    "    dict_writer.writeheader()\n",
    "    dict_writer.writerows(courseTalkList)"
   ]
  }
 ],
 "metadata": {
  "kernelspec": {
   "display_name": "Python 3",
   "language": "python",
   "name": "python3"
  },
  "language_info": {
   "codemirror_mode": {
    "name": "ipython",
    "version": 3
   },
   "file_extension": ".py",
   "mimetype": "text/x-python",
   "name": "python",
   "nbconvert_exporter": "python",
   "pygments_lexer": "ipython3",
   "version": "3.5.3"
  }
 },
 "nbformat": 4,
 "nbformat_minor": 2
}
