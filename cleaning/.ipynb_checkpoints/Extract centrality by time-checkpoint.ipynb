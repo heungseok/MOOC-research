{
 "cells": [
  {
   "cell_type": "code",
   "execution_count": 2,
   "metadata": {
    "collapsed": true
   },
   "outputs": [],
   "source": [
    "import csv\n",
    "import datetime\n"
   ]
  },
  {
   "cell_type": "code",
   "execution_count": 5,
   "metadata": {},
   "outputs": [
    {
     "data": {
      "text/plain": [
       "25936"
      ]
     },
     "execution_count": 5,
     "metadata": {},
     "output_type": "execute_result"
    }
   ],
   "source": [
    "# read course xt data\n",
    "\n",
    "courseList = []\n",
    "with open(\"./MOOC_data/xtData/xt_1year(integrated)/CourseXTdata(directed_network)_adjusted.csv\", \"r\") as csvfile:\n",
    "    reader = csv.DictReader(csvfile)\n",
    "    for row in reader:\n",
    "        courseList.append(row)\n",
    "        \n",
    "len(courseList)\n"
   ]
  },
  {
   "cell_type": "code",
   "execution_count": 6,
   "metadata": {},
   "outputs": [
    {
     "data": {
      "text/plain": [
       "{'betweenness': 'NA',\n",
       " 'closeness': 'NA',\n",
       " 'course_id': 'CourseTalk-1',\n",
       " 'course_length': '8',\n",
       " 'effort_hours (per_week)': '3',\n",
       " 'eigenvector': 'NA',\n",
       " 'enrollment_type': 'FREE audit/Pay for certificate',\n",
       " 'in-degree': 'NA',\n",
       " 'level': 'Introductory',\n",
       " 'out-degree': 'NA',\n",
       " 'price': '49',\n",
       " 'provider': 'edX',\n",
       " 'published_time': '2',\n",
       " 'review_platform': 'CourseTalk',\n",
       " 'school': 'Massachusetts Institute of Technology',\n",
       " 'session_open': 'FALSE',\n",
       " 'subject': 'Engineering',\n",
       " 'time': '1',\n",
       " 'time_avg_helpful_review_score': '0',\n",
       " 'time_avg_high_review': '0',\n",
       " 'time_avg_low_review': '0',\n",
       " 'time_avg_moderate_review': '0',\n",
       " 'time_avg_review_length': '0',\n",
       " 'time_review_count': '0',\n",
       " 'time_review_rating': '0',\n",
       " 'time_school_ranking': '1',\n",
       " 'title': 'Introduction to Aerospace Engineering: Astronautics and Human Spaceflight',\n",
       " 'total_review_count': '12',\n",
       " 'total_review_rating': '5',\n",
       " 'transitivity': 'NA',\n",
       " 'url': '36498'}"
      ]
     },
     "execution_count": 6,
     "metadata": {},
     "output_type": "execute_result"
    }
   ],
   "source": [
    "courseList[0]"
   ]
  },
  {
   "cell_type": "markdown",
   "metadata": {},
   "source": [
    "<h3> Make dictionary List for time flag</h3>"
   ]
  },
  {
   "cell_type": "code",
   "execution_count": 10,
   "metadata": {},
   "outputs": [],
   "source": [
    "Course_Time_list = []\n",
    "## course_id, time-1, time-2, time-3, time-4\n",
    "## set the network attribute to the data\n",
    "for course in courseList:\n",
    "    \n",
    "    flag = False\n",
    "    for i, c in enumerate(Course_Time_list):\n",
    "        if course['url'] == c['url']:\n",
    "            Course_Time_list[i]['time-'+course['time']] = course['session_open']\n",
    "            flag = True\n",
    "            \n",
    "    \n",
    "    if flag == False:\n",
    "        Course_Time_list.append(dict({\n",
    "            'url': course['url'],\n",
    "            'time-'+course['time']: course['session_open']\n",
    "        }))\n",
    "            \n",
    "            \n",
    "        \n",
    "    \n",
    "            "
   ]
  },
  {
   "cell_type": "code",
   "execution_count": 11,
   "metadata": {},
   "outputs": [
    {
     "name": "stdout",
     "output_type": "stream",
     "text": [
      "6484\n",
      "{'time-4': 'TRUE', 'time-2': 'TRUE', 'time-3': 'FALSE', 'url': '36498', 'time-1': 'FALSE'}\n"
     ]
    }
   ],
   "source": [
    "print(len(Course_Time_list))\n",
    "print(Course_Time_list[0])"
   ]
  },
  {
   "cell_type": "markdown",
   "metadata": {},
   "source": [
    "<h3> Write File </h3>"
   ]
  },
  {
   "cell_type": "code",
   "execution_count": 15,
   "metadata": {},
   "outputs": [],
   "source": [
    "with open('./MOOC_data/xtData/xt_1year(integrated)/extract_time_flag_fromXT.csv', 'w', newline = '') as write_file:\n",
    "    \n",
    "    fieldnames = ['url', 'time-1', 'time-2', 'time-3', 'time-4']\n",
    "    \n",
    "    dict_writer = csv.DictWriter(write_file, fieldnames)\n",
    "    dict_writer.writeheader()\n",
    "    dict_writer.writerows(Course_Time_list)\n",
    "            "
   ]
  }
 ],
 "metadata": {
  "kernelspec": {
   "display_name": "Python 3",
   "language": "python",
   "name": "python3"
  },
  "language_info": {
   "codemirror_mode": {
    "name": "ipython",
    "version": 3
   },
   "file_extension": ".py",
   "mimetype": "text/x-python",
   "name": "python",
   "nbconvert_exporter": "python",
   "pygments_lexer": "ipython3",
   "version": "3.5.3"
  }
 },
 "nbformat": 4,
 "nbformat_minor": 2
}
