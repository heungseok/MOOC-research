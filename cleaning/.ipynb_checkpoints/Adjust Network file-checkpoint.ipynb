{
 "cells": [
  {
   "cell_type": "code",
   "execution_count": 1,
   "metadata": {
    "collapsed": true
   },
   "outputs": [],
   "source": [
    "import csv\n",
    "import json\n",
    "\n"
   ]
  },
  {
   "cell_type": "markdown",
   "metadata": {},
   "source": [
    "# load network data & node-info"
   ]
  },
  {
   "cell_type": "code",
   "execution_count": 2,
   "metadata": {
    "collapsed": true
   },
   "outputs": [],
   "source": [
    "# read all network data\n",
    "platform = \"courseTalk\"\n",
    "# platform = \"classCentral\"\n",
    "net_list = []\n",
    "with open(\"./MOOC_Network_data/t1_\"+platform + \".json\", \"r\", encoding='utf-8') as file:\n",
    "    net_list.append(json.load(file))\n",
    "    \n",
    "with open(\"./MOOC_Network_data/t2_\"+platform + \".json\", \"r\", encoding='utf-8') as file:\n",
    "    net_list.append(json.load(file))\n",
    "    \n",
    "with open(\"./MOOC_Network_data/t3_\" + platform + \".json\", \"r\", encoding='utf-8') as file:\n",
    "    net_list.append(json.load(file))\n",
    "\n",
    "with open(\"./MOOC_Network_data/t4_\" + platform + \".json\", \"r\", encoding='utf-8') as file:\n",
    "    net_list.append(json.load(file))"
   ]
  },
  {
   "cell_type": "code",
   "execution_count": 3,
   "metadata": {
    "collapsed": true
   },
   "outputs": [],
   "source": [
    "# 1. url-course_id map 만들기\n",
    "url_course_map = []\n",
    "index = 0\n",
    "for time, net in enumerate(net_list):\n",
    "    \n",
    "    for node in net['nodes']:\n",
    "        \n",
    "        # dictionary list 에 이미 존재하는지 확인.\n",
    "        flag = False\n",
    "        for i, dic in enumerate(url_course_map):\n",
    "            if node['attributes']['name'] == dic['url']:\n",
    "                url_course_map[i]['node_id_list'].append(node['id'])\n",
    "                url_course_map[i]['time_indices'].append(time)\n",
    "                flag = True\n",
    "                \n",
    "        # 없을 경우 추가.\n",
    "        if flag == False:\n",
    "            url_course_map.append(dict({\n",
    "                'url': node['attributes']['name'],\n",
    "                'course_id': index,\n",
    "                'node_id_list': [node['id']],\n",
    "                'time_indices': [time]\n",
    "            }))\n",
    "            index +=1\n",
    "               "
   ]
  },
  {
   "cell_type": "code",
   "execution_count": 4,
   "metadata": {
    "collapsed": true
   },
   "outputs": [],
   "source": [
    "\n",
    "for time, net in enumerate(net_list):\n",
    "    # 2. node id 수정 \n",
    "    for i, node in enumerate(net['nodes']):\n",
    "        \n",
    "        \n",
    "        for course in url_course_map:\n",
    "            \n",
    "            # 현재 network의 time index가 map에 없을 경우 for loop skip.\n",
    "            if time not in course['time_indices']:\n",
    "                continue\n",
    "                \n",
    "            # time index가 map에 있을 경우 url check. 맞으면 해당 인덱스 넣기\n",
    "            else:\n",
    "                if node['attributes']['name'] == course['url']:\n",
    "                    net_list[time]['nodes'][i]['course_id'] = course['course_id']\n",
    "        \n",
    "        # time 3(index=2) network 노드 사이즈 축소\n",
    "        if time == 2 and platform==\"classCentral\":\n",
    "            net_list[time]['nodes'][i]['size'] = float(net_list[time]['nodes'][i]['size']) * 0.7\n",
    "            \n",
    "    \n",
    "    "
   ]
  },
  {
   "cell_type": "code",
   "execution_count": 5,
   "metadata": {
    "collapsed": true
   },
   "outputs": [],
   "source": [
    "# 3. edge id 수정\n",
    "for time, net in enumerate(net_list):\n",
    "    \n",
    "    # 3. edge id 수정 \n",
    "    for i, edge in enumerate(net['edges']):\n",
    "        \n",
    "        for node in net['nodes']:\n",
    "            \n",
    "          #  source/target id 변경\n",
    "\n",
    "            if node['id'] == edge['source']:\n",
    "                net_list[time]['edges'][i]['source'] = node['course_id']\n",
    "                \n",
    "            if node['id'] == edge['target']:\n",
    "                net_list[time]['edges'][i]['target'] = node['course_id']\n",
    "    \n",
    "    "
   ]
  },
  {
   "cell_type": "code",
   "execution_count": 6,
   "metadata": {},
   "outputs": [
    {
     "name": "stdout",
     "output_type": "stream",
     "text": [
      "{'area': 'Physical Science and Engineering', 'url': 'https://www.class-central.com/mooc/1307/coursera-fundamentals-of-global-energy-business', 'subject': 'Environmental Science and Sustainability', 'provider': 'Coursera'}\n"
     ]
    }
   ],
   "source": [
    "courseList = []\n",
    "with open(\"./MOOC_Network_data/url_subject_info.csv\") as csvfile:\n",
    "    reader = csv.DictReader(csvfile)\n",
    "    for row in reader:\n",
    "        courseList.append(row)\n",
    "        \n",
    "print(courseList[0])"
   ]
  },
  {
   "cell_type": "code",
   "execution_count": 7,
   "metadata": {
    "collapsed": true,
    "scrolled": true
   },
   "outputs": [],
   "source": [
    "# subject, area, provider 수정\n",
    "\n",
    "for course in courseList:\n",
    "    \n",
    "    for time, net in enumerate(net_list):\n",
    "        \n",
    "        for i, node in enumerate(net['nodes']):\n",
    "            if node['attributes']['name'] == course['url']:\n",
    "                net_list[time]['nodes'][i]['attributes']['provider'] = course['provider']\n",
    "                net_list[time]['nodes'][i]['attributes']['subject'] = course['subject']\n",
    "                net_list[time]['nodes'][i]['attributes']['area'] = course['area']\n",
    "    "
   ]
  },
  {
   "cell_type": "code",
   "execution_count": 8,
   "metadata": {},
   "outputs": [
    {
     "name": "stdout",
     "output_type": "stream",
     "text": [
      "{'rgb': 'rgb(134,42,49)', 'hex-color': '#862a31', 'area': 'Arts and Humanities'}\n",
      "{'size': 30.0, 'course_id': 0, 'attributes': {'title': 'Computing for Data Analysis', 'eigen': '0.0', 'out.degree': '2.0', 'subject': 'Data Analysis', 'in.degree': '0.0', 'school': 'Johns Hopkins University', 'name': 'https://www.class-central.com/mooc/388/coursera-computing-for-data-analysis', 'provider': 'Coursera', 'index': 'classCentral-2796', 'betweeb': '0.0', 'area': 'Data Science'}, 'y': -187.6919708251953, 'label': 'n9', 'color': 'rgb(240,249,232)', 'id': 'n9', 'x': -126.900390625}\n"
     ]
    }
   ],
   "source": [
    "# color file load\n",
    "colorList =[]\n",
    "with open(\"./MOOC_Network_data/area_color_map.csv\") as csvfile:\n",
    "    reader = csv.DictReader(csvfile)\n",
    "    for row in reader:\n",
    "        colorList.append(row)\n",
    "        \n",
    "print(colorList[0])\n",
    "print(net_list[0]['nodes'][0])"
   ]
  },
  {
   "cell_type": "code",
   "execution_count": 9,
   "metadata": {},
   "outputs": [],
   "source": [
    "# 컬러수정 color by area\n",
    "\n",
    "for time, net in enumerate(net_list):\n",
    "\n",
    "    # 먼저 node color 생성.\n",
    "    for i, node in enumerate(net['nodes']):\n",
    "\n",
    "        for color in colorList:\n",
    "            if color['area'] == node['attributes']['area']:\n",
    "                net_list[time]['nodes'][i]['area_color'] = color['rgb']\n",
    "                \n",
    "    # 다음으로 edge color 생성.\n",
    "    for j, edge in enumerate(net['edges']):\n",
    "        \n",
    "        for node in net['nodes']:\n",
    "            if edge['source'] == node['course_id']:\n",
    "                col = node['area_color']\n",
    "                net_list[time]['edges'][j]['area_color'] = col\n",
    "   "
   ]
  },
  {
   "cell_type": "markdown",
   "metadata": {},
   "source": [
    "<h3> Write File </h3>"
   ]
  },
  {
   "cell_type": "code",
   "execution_count": 10,
   "metadata": {
    "collapsed": true
   },
   "outputs": [],
   "source": [
    "for index, net in enumerate(net_list):\n",
    "    net_list[index]['time'] = index+1\n",
    "    with open('MOOC_Network_data/output/t' + str(index+1) + \"_\" + platform + \"_network.json\", 'w') as fp:\n",
    "        json.dump(net, fp)\n"
   ]
  }
 ],
 "metadata": {
  "kernelspec": {
   "display_name": "Python 3",
   "language": "python",
   "name": "python3"
  },
  "language_info": {
   "codemirror_mode": {
    "name": "ipython",
    "version": 3
   },
   "file_extension": ".py",
   "mimetype": "text/x-python",
   "name": "python",
   "nbconvert_exporter": "python",
   "pygments_lexer": "ipython3",
   "version": "3.5.3"
  }
 },
 "nbformat": 4,
 "nbformat_minor": 2
}
