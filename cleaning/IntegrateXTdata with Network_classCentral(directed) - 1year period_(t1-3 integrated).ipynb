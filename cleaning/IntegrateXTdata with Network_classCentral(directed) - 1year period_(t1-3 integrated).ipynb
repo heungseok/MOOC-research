{
 "cells": [
  {
   "cell_type": "code",
   "execution_count": 1,
   "metadata": {
    "collapsed": true
   },
   "outputs": [],
   "source": [
    "import csv\n",
    "import datetime\n"
   ]
  },
  {
   "cell_type": "code",
   "execution_count": 2,
   "metadata": {},
   "outputs": [
    {
     "data": {
      "text/plain": [
       "12612"
      ]
     },
     "execution_count": 2,
     "metadata": {},
     "output_type": "execute_result"
    }
   ],
   "source": [
    "# read course xt data\n",
    "\n",
    "courseList = []\n",
    "with open(\"./MOOC_data/xtData/xt_1year(class_central)/CourseXTdata.csv\", \"r\") as csvfile:\n",
    "    reader = csv.DictReader(csvfile)\n",
    "    for row in reader:\n",
    "        courseList.append(row)\n",
    "        \n",
    "len(courseList)\n"
   ]
  },
  {
   "cell_type": "code",
   "execution_count": 3,
   "metadata": {},
   "outputs": [
    {
     "data": {
      "text/plain": [
       "{'course_id': 'classCentral-1',\n",
       " 'course_length': '13',\n",
       " 'effort_hours (per_week)': '3',\n",
       " 'enrollment_type': 'FREE audit/Pay for certificate',\n",
       " 'level': 'Introductory',\n",
       " 'price': '49',\n",
       " 'provider': 'edX',\n",
       " 'school': 'ETS',\n",
       " 'subject': 'Language',\n",
       " 'time': '1',\n",
       " 'time_avg_helpful_review_score': '0',\n",
       " 'time_avg_high_review': '0',\n",
       " 'time_avg_low_review': '0',\n",
       " 'time_avg_moderate_review': '0',\n",
       " 'time_avg_review_length': '0',\n",
       " 'time_review_count': '0',\n",
       " 'time_review_rating': '0',\n",
       " 'time_school_ranking': 'NA',\n",
       " 'title': 'TOEFL® Test Preparation: The Insider’s Guide',\n",
       " 'total_review_count': '2',\n",
       " 'total_review_rating': '5',\n",
       " 'url': 'https://www.class-central.com/mooc/6344/edx-toefl-test-preparation-the-insider-s-guide'}"
      ]
     },
     "execution_count": 3,
     "metadata": {},
     "output_type": "execute_result"
    }
   ],
   "source": [
    "courseList[0]"
   ]
  },
  {
   "cell_type": "code",
   "execution_count": 4,
   "metadata": {},
   "outputs": [
    {
     "data": {
      "text/plain": [
       "2483"
      ]
     },
     "execution_count": 4,
     "metadata": {},
     "output_type": "execute_result"
    }
   ],
   "source": [
    "# read network xt data\n",
    "\n",
    "networkList = []\n",
    "with open(\"./MOOC_data/xtData/xt_1year(class_central)/network_centrality_directed.csv\", \"r\") as csvfile:\n",
    "    reader = csv.DictReader(csvfile)\n",
    "    for row in reader:\n",
    "        networkList.append(row)\n",
    "        \n",
    "len(networkList)\n"
   ]
  },
  {
   "cell_type": "code",
   "execution_count": 5,
   "metadata": {},
   "outputs": [
    {
     "data": {
      "text/plain": [
       "{'': '1',\n",
       " 'betweenness': '0',\n",
       " 'closeness': '0.00625',\n",
       " 'constraint': '1.03333333333333',\n",
       " 'eigenvector': '0',\n",
       " 'in-degree': '0',\n",
       " 'out-degree': '1',\n",
       " 'time': '1',\n",
       " 'transitivity': '0',\n",
       " 'url': 'https://www.class-central.com/mooc/374/coursera-algorithms-design-and-analysis-part-1'}"
      ]
     },
     "execution_count": 5,
     "metadata": {},
     "output_type": "execute_result"
    }
   ],
   "source": [
    "networkList[0]"
   ]
  },
  {
   "cell_type": "markdown",
   "metadata": {},
   "source": [
    "<h3> Add network centrality to the courseXT data</h3>"
   ]
  },
  {
   "cell_type": "code",
   "execution_count": 6,
   "metadata": {
    "collapsed": true
   },
   "outputs": [],
   "source": [
    "## set the network attribute to the data\n",
    "for i, course in enumerate(courseList):\n",
    "    \n",
    "    for net in networkList:\n",
    "        if course['url'] == net['url'] and course['time'] == net['time']:\n",
    "            courseList[i]['in-degree'] = net['in-degree']\n",
    "            courseList[i]['out-degree'] = net['out-degree']\n",
    "            courseList[i]['closeness'] = net['closeness']\n",
    "            courseList[i]['betweenness'] = net['betweenness']\n",
    "            courseList[i]['eigenvector'] = net['eigenvector']\n",
    "            courseList[i]['transitivity'] = net['transitivity']\n",
    "            courseList[i]['constraint'] = net['constraint']\n",
    "            "
   ]
  },
  {
   "cell_type": "code",
   "execution_count": 7,
   "metadata": {
    "collapsed": true
   },
   "outputs": [],
   "source": [
    "## set NA to the data which don't have network attr\n",
    "for i, course in enumerate(courseList):\n",
    "    if 'in-degree' not in course.keys():\n",
    "        courseList[i]['in-degree'] = \"NA\"\n",
    "        courseList[i]['out-degree'] = \"NA\"\n",
    "        courseList[i]['closeness'] = \"NA\"\n",
    "        courseList[i]['betweenness'] = \"NA\"\n",
    "        courseList[i]['eigenvector'] = \"NA\"\n",
    "        courseList[i]['transitivity'] = \"NA\"\n",
    "        courseList[i]['constraint'] = \"NA\""
   ]
  },
  {
   "cell_type": "markdown",
   "metadata": {},
   "source": [
    "<h3> Add Flag of session life to the courseXT data </h3>"
   ]
  },
  {
   "cell_type": "code",
   "execution_count": 8,
   "metadata": {
    "collapsed": true
   },
   "outputs": [],
   "source": [
    "# read session data\n",
    "sessionList = []\n",
    "with open(\"./MOOC_data/xtData/xt_1year(class_central)/ClassCentral_session.csv\", \"r\") as csvfile:\n",
    "    reader = csv.DictReader(csvfile)\n",
    "    for row in reader:\n",
    "        \n",
    "        flag = False\n",
    "        for index, session in enumerate(sessionList):\n",
    "            if row['url'] == session['url']:\n",
    "                flag = True\n",
    "                sessionList[index]['sessions'].append(row['session'])\n",
    "        \n",
    "        if flag == False:\n",
    "\n",
    "            sessionList.append(dict({\n",
    "                'url': row['url'],\n",
    "                'sessions': [row['session']]\n",
    "            }))\n",
    "\n",
    "      "
   ]
  },
  {
   "cell_type": "code",
   "execution_count": 9,
   "metadata": {
    "collapsed": true
   },
   "outputs": [],
   "source": [
    "# sorting each session\n",
    "for index, session in enumerate(sessionList):\n",
    "    sessionList[index]['sessions'].sort()\n"
   ]
  },
  {
   "cell_type": "code",
   "execution_count": 10,
   "metadata": {
    "collapsed": true
   },
   "outputs": [],
   "source": [
    "# add session start time stamp\n",
    "\n",
    "for i, course in enumerate(courseList):\n",
    "    for session in sessionList:\n",
    "        if course['url'] == session['url']:\n",
    "                   \n",
    "            if session['sessions'][0] == \"null\":\n",
    "                # session이 null일 경우 무시\n",
    "                continue \n",
    "                    \n",
    "            # session 첫번째가 2012년, 11년인 경우가 있으므로 처리해야함.\n",
    "            date = datetime.datetime.strptime(session['sessions'][0], \"%Y-%m-%d\")\n",
    "            \n",
    "            if date.year == 2013:\n",
    "\n",
    "                # T1:\n",
    "                if date.month > 6 and date.month <= 12:\n",
    "                    courseList[i]['published_time'] = \"1\";\n",
    "                   \n",
    "\n",
    "            elif date.year == 2014:\n",
    "                \n",
    "                if date.month > 0 and date.month < 7:\n",
    "                    courseList[i]['published_time'] = \"1\";\n",
    "\n",
    "                # T2: \n",
    "                else:\n",
    "                    courseList[i]['published_time'] = \"2\";\n",
    "\n",
    "\n",
    "            elif date.year == 2015:\n",
    "                \n",
    "                if date.month > 0 and date.month < 7:\n",
    "                    courseList[i]['published_time'] = \"2\";\n",
    "\n",
    "                # T3\n",
    "                else:\n",
    "                    courseList[i]['published_time'] = \"3\";\n",
    "\n",
    "\n",
    "            elif date.year == 2016:\n",
    "                \n",
    "                if date.month > 0 and date.month < 7:\n",
    "                    courseList[i]['published_time'] = \"3\";\n",
    "\n",
    "                # T4\n",
    "                else:\n",
    "                    courseList[i]['published_time'] = \"4\";\n",
    "\n",
    "\n",
    "            elif date.year == 2017:\n",
    "                \n",
    "                courseList[i]['published_time'] = \"4\";\n",
    "                \n",
    "            elif date.year == 2011 or date.year == 2012:\n",
    "                courseList[i]['published_time'] = \"0\";\n",
    "                \n",
    "            elif date.year == 2018:\n",
    "                courseList[i]['published_time'] = \"NA\";\n"
   ]
  },
  {
   "cell_type": "code",
   "execution_count": 11,
   "metadata": {
    "collapsed": true
   },
   "outputs": [],
   "source": [
    "def calculate_session(course, session):\n",
    "    \n",
    "    if course['course_length'] == \"NA\":\n",
    "        week = 10\n",
    "    else:\n",
    "        week = round(float(course['course_length']))\n",
    "        \n",
    "    if course['time'] == '1':\n",
    "        for d in session['sessions']:\n",
    "            if d == \"null\":\n",
    "                return 2\n",
    "            date = datetime.datetime.strptime(d, \"%Y-%m-%d\")\n",
    "            date_to = date + datetime.timedelta(days=week*7)\n",
    "            if date.year == 2013 or date_to.year == 2013:\n",
    "                if (date.month > 6 and date.month <= 12) or (date_to.month > 6 and date_to.month <= 12):\n",
    "                    return 0\n",
    "            elif date.year == 2014 or date_to.year == 2014:\n",
    "                if (date.month > 0 and date.month < 7) or (date_to.month > 0 and date_to.month < 7):\n",
    "                    return 0\n",
    "                \n",
    "        ## 아무것도 매칭안될 경우 return 1\n",
    "        return 1\n",
    "            \n",
    "    elif course['time'] == '2':\n",
    "        for d in session['sessions']:\n",
    "            if d == \"null\":\n",
    "                return 2\n",
    "            date = datetime.datetime.strptime(d, \"%Y-%m-%d\")\n",
    "            date_to = date + datetime.timedelta(days=week*7)\n",
    "            if date.year == 2014 or date_to.year == 2014:\n",
    "                if (date.month > 6 and date.month <= 12) or (date_to.month > 6 and date_to.month <= 12):\n",
    "                    return 0\n",
    "            elif date.year == 2015 or date_to.year == 2015:\n",
    "                if (date.month > 0 and date.month < 7) or (date_to.month > 0 and date_to.month < 7):\n",
    "                    return 0\n",
    "                \n",
    "        return 1\n",
    "                \n",
    "            \n",
    "    elif course['time'] == '3':\n",
    "        for d in session['sessions']:\n",
    "            if d == \"null\":\n",
    "                return 2\n",
    "            date = datetime.datetime.strptime(d, \"%Y-%m-%d\")\n",
    "            date_to = date + datetime.timedelta(days=week*7)\n",
    "            if date.year == 2015 or date_to.year == 2015:\n",
    "                if (date.month > 6 and date.month <= 12) or (date_to.month > 6 and date_to.month <= 12):\n",
    "                    return 0\n",
    "            elif date.year == 2016 or date_to.year == 2016:\n",
    "                if (date.month > 0 and date.month < 7) or (date_to.month > 0 and date_to.month < 7):\n",
    "                    return 0\n",
    "        return 1\n",
    "    \n",
    "    elif course['time'] == '4':\n",
    "        for d in session['sessions']:\n",
    "            if d == \"null\":\n",
    "                return 2\n",
    "            date = datetime.datetime.strptime(d, \"%Y-%m-%d\")\n",
    "            date_to = date + datetime.timedelta(days=week*7)\n",
    "            if date.year == 2016 and date_to.year == 2016:\n",
    "                if (date.month > 6 and date.month <= 12) or (date_to.month > 6 and date_to.month <= 12):\n",
    "                    return 0\n",
    "            elif date.year == 2017 or date_to.year == 2017:\n",
    "                if (date.month > 0 and date.month < 7) or (date_to.month > 0 and date_to.month < 7):\n",
    "                    return 0\n",
    "                \n",
    "        \n",
    "        return 1\n",
    "    "
   ]
  },
  {
   "cell_type": "code",
   "execution_count": 12,
   "metadata": {
    "collapsed": true
   },
   "outputs": [],
   "source": [
    "# Session date를 기준으로 해당 course length(week) + 4 week(한 달)을 life time으로 설정. \n",
    "# course length가 NA인 경우.... 평균 6.21 week 이므로 6week + 4week = 10week\n",
    "\n",
    "for i, course in enumerate(courseList):\n",
    "    \n",
    "    for session in sessionList:\n",
    "        \n",
    "        if course['url'] == session['url']:\n",
    "            \n",
    "            result = calculate_session(course, session)\n",
    "            if result == 0:\n",
    "                courseList[i]['session_open'] = \"TRUE\"\n",
    "            elif result == 1:\n",
    "                courseList[i]['session_open'] = \"FALSE\"\n",
    "            else:\n",
    "                courseList[i]['session_open'] = \"NA\"\n",
    "            \n",
    "            "
   ]
  },
  {
   "cell_type": "code",
   "execution_count": 13,
   "metadata": {
    "collapsed": true
   },
   "outputs": [],
   "source": [
    "## set \"NA\" if each dictionary dosen't have the keys\n",
    "for index, course in enumerate(courseList):\n",
    "    if 'session_open' not in course.keys():\n",
    "        courseList[index]['session_open'] = \"NA\"\n",
    "    if 'published_time' not in course.keys():\n",
    "        courseList[index]['published_time'] = \"NA\""
   ]
  },
  {
   "cell_type": "markdown",
   "metadata": {},
   "source": [
    "<h3> Subject, provider, area mapping </h3>"
   ]
  },
  {
   "cell_type": "code",
   "execution_count": 14,
   "metadata": {},
   "outputs": [
    {
     "data": {
      "text/plain": [
       "{'area': 'Physical Science and Engineering',\n",
       " 'provider': 'Coursera',\n",
       " 'subject': 'Environmental Science and Sustainability',\n",
       " 'url': 'https://www.class-central.com/mooc/1307/coursera-fundamentals-of-global-energy-business'}"
      ]
     },
     "execution_count": 14,
     "metadata": {},
     "output_type": "execute_result"
    }
   ],
   "source": [
    "subject_url_map = []\n",
    "with open('./MOOC_Network_data/url_subject_info.csv', 'r') as csvfile:\n",
    "    reader = csv.DictReader(csvfile)\n",
    "    for row in reader:\n",
    "        subject_url_map.append(row);\n",
    "        \n",
    "subject_url_map[0]\n",
    "        "
   ]
  },
  {
   "cell_type": "code",
   "execution_count": 15,
   "metadata": {
    "collapsed": true
   },
   "outputs": [],
   "source": [
    "for index, course in enumerate(courseList):\n",
    "    \n",
    "    flag = False\n",
    "    for subject in subject_url_map:\n",
    "        if course['url'] == subject['url']:\n",
    "            flag = True\n",
    "            courseList[index]['subject'] = subject['subject']\n",
    "            courseList[index]['area'] = subject['area']\n",
    "            courseList[index]['provider'] = subject['provider']\n",
    "    \n",
    "    if flag == False:\n",
    "        courseList[index]['area'] = \"NA\"\n",
    "        \n",
    "        "
   ]
  },
  {
   "cell_type": "markdown",
   "metadata": {},
   "source": [
    "<h3> Write file </h3>"
   ]
  },
  {
   "cell_type": "code",
   "execution_count": 16,
   "metadata": {
    "collapsed": true
   },
   "outputs": [],
   "source": [
    "with open('./MOOC_data/xtData/xt_1year(class_central)/CourseXTdata(directed_network).csv', 'w', newline = '') as write_file:\n",
    "    \n",
    "    fieldnames = ['course_id', 'title', 'provider','area', 'subject', 'school', 'time_school_ranking', 'total_review_rating', 'total_review_count', 'published_time', \n",
    "                  'time', 'session_open', 'time_review_count', 'time_review_rating', 'time_avg_helpful_review_score', 'time_avg_moderate_review', 'time_avg_review_length',\n",
    "                  'total_review_rating', 'time_avg_high_review', 'time_avg_low_review', 'effort_hours (per_week)', 'level', 'price', \n",
    "                  'enrollment_type', 'course_length', 'url', 'in-degree', 'out-degree', 'closeness', 'betweenness', \n",
    "                 'eigenvector', 'transitivity', 'constraint']\n",
    "    \n",
    "    dict_writer = csv.DictWriter(write_file, fieldnames)\n",
    "    dict_writer.writeheader()\n",
    "    dict_writer.writerows(courseList)\n",
    "            "
   ]
  }
 ],
 "metadata": {
  "kernelspec": {
   "display_name": "Python 3",
   "language": "python",
   "name": "python3"
  },
  "language_info": {
   "codemirror_mode": {
    "name": "ipython",
    "version": 3
   },
   "file_extension": ".py",
   "mimetype": "text/x-python",
   "name": "python",
   "nbconvert_exporter": "python",
   "pygments_lexer": "ipython3",
   "version": "3.5.3"
  }
 },
 "nbformat": 4,
 "nbformat_minor": 2
}
