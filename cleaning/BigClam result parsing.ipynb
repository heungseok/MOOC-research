{
 "cells": [
  {
   "cell_type": "code",
   "execution_count": 31,
   "metadata": {
    "collapsed": true
   },
   "outputs": [],
   "source": [
    "import csv\n",
    "import datetime\n",
    "import re\n"
   ]
  },
  {
   "cell_type": "code",
   "execution_count": 48,
   "metadata": {
    "collapsed": true
   },
   "outputs": [],
   "source": [
    "parsing_BigClam_result(str(100))"
   ]
  },
  {
   "cell_type": "code",
   "execution_count": 46,
   "metadata": {
    "collapsed": true
   },
   "outputs": [],
   "source": [
    "for i in range(6,21):\n",
    "    parsing_BigClam_result(str(i))"
   ]
  },
  {
   "cell_type": "code",
   "execution_count": 41,
   "metadata": {
    "collapsed": true
   },
   "outputs": [],
   "source": [
    "def parsing_BigClam_result(comm_size):\n",
    "    ########### 1. parsing community detection results ###########\n",
    "    comm_list = []\n",
    "    unique_nodes = []\n",
    "    with open(\"./BIgClam_result/mooc_fixed_\"+comm_size+\"_commcmtyvv.txt\") as fin:\n",
    "        index = 1\n",
    "        for line in fin:\n",
    "            temp_nodes = line.split()\n",
    "            comm_list.append(dict({\n",
    "                'id': 'c'+str(index),\n",
    "                'nodes': temp_nodes\n",
    "            })) \n",
    "            index +=1\n",
    "            for n in temp_nodes:\n",
    "                if n not in unique_nodes:\n",
    "                    unique_nodes.append(n)\n",
    "\n",
    "    ########### 2. exploring community ###########\n",
    "    nodes = []\n",
    "    # unique nodes를 돌면서 community 안에 존재하는 노드 검색.\n",
    "    for i, node in enumerate(unique_nodes):\n",
    "\n",
    "\n",
    "        ## 먼저 node id assign\n",
    "        nodes.append(dict({\n",
    "            'id': node,\n",
    "            'community': []\n",
    "        }))\n",
    "\n",
    "        ## 다음으로 community 탐색\n",
    "        for comm in comm_list:\n",
    "\n",
    "            if node in comm['nodes']:\n",
    "                nodes[i]['community'].append(comm['id']) \n",
    "\n",
    "\n",
    "\n",
    "\n",
    "    ## node community assign appropriately\n",
    "    for i, node in enumerate(nodes):\n",
    "        nodes[i]['id'] = node['id'].replace('\"','')\n",
    "        nodes[i]['overlapping_num'] = len(node['community'])\n",
    "        nodes[i]['community'] = \"+\".join(node['community'])\n",
    "        \n",
    "        \n",
    "    # write file as csv\n",
    "    with open('./BIgClam_result/res_C'+comm_size+'.csv', 'w', newline = '') as write_file:\n",
    "\n",
    "        fieldnames = ['id', 'community', 'overlapping_num']\n",
    "\n",
    "        dict_writer = csv.DictWriter(write_file, fieldnames)\n",
    "        dict_writer.writeheader()\n",
    "        dict_writer.writerows(nodes)\n",
    "\n",
    "    "
   ]
  },
  {
   "cell_type": "code",
   "execution_count": 9,
   "metadata": {
    "collapsed": true
   },
   "outputs": [],
   "source": [
    "# parsing community detection results\n",
    "comm_list = []\n",
    "unique_nodes = []\n",
    "with open(\"./BIgClam_result/mooc_fixed_6_commcmtyvv.txt\") as fin:\n",
    "    index = 1\n",
    "    for line in fin:\n",
    "        temp_nodes = line.split()\n",
    "        comm_list.append(dict({\n",
    "            'id': 'c'+str(index),\n",
    "            'nodes': temp_nodes\n",
    "        })) \n",
    "        index +=1\n",
    "        for n in temp_nodes:\n",
    "            if n not in unique_nodes:\n",
    "                unique_nodes.append(n)\n",
    "        \n",
    "        "
   ]
  },
  {
   "cell_type": "code",
   "execution_count": 39,
   "metadata": {
    "collapsed": true
   },
   "outputs": [],
   "source": [
    "nodes = []\n",
    "\n",
    "# unique nodes를 돌면서 community 안에 존재하는 노드 검색.\n",
    "for i, node in enumerate(unique_nodes):\n",
    "    \n",
    "    \n",
    "    ## 먼저 node id assign\n",
    "    nodes.append(dict({\n",
    "        'id': node,\n",
    "        'community': []\n",
    "    }))\n",
    "    \n",
    "    ## 다음으로 community 탐색\n",
    "    for comm in comm_list:\n",
    "        \n",
    "        if node in comm['nodes']:\n",
    "            nodes[i]['community'].append(comm['id']) \n",
    "\n",
    "\n",
    "    \n",
    "    \n",
    "## node community assign appropriately\n",
    "for i, node in enumerate(nodes):\n",
    "    nodes[i]['id'] = node['id'].replace('\"','')\n",
    "    nodes[i]['overlapping_num'] = len(node['community'])\n",
    "    nodes[i]['community'] = \"+\".join(node['community'])\n",
    "    "
   ]
  },
  {
   "cell_type": "code",
   "execution_count": 40,
   "metadata": {
    "collapsed": true
   },
   "outputs": [],
   "source": [
    "# write file as csv\n",
    "with open('./BIgClam_result/res_C6.csv', 'w', newline = '') as write_file:\n",
    "    \n",
    "    fieldnames = ['id', 'community', 'overlapping_num']\n",
    "    \n",
    "    dict_writer = csv.DictWriter(write_file, fieldnames)\n",
    "    dict_writer.writeheader()\n",
    "    dict_writer.writerows(nodes)\n"
   ]
  }
 ],
 "metadata": {
  "kernelspec": {
   "display_name": "Python 3",
   "language": "python",
   "name": "python3"
  },
  "language_info": {
   "codemirror_mode": {
    "name": "ipython",
    "version": 3
   },
   "file_extension": ".py",
   "mimetype": "text/x-python",
   "name": "python",
   "nbconvert_exporter": "python",
   "pygments_lexer": "ipython3",
   "version": "3.5.3"
  }
 },
 "nbformat": 4,
 "nbformat_minor": 2
}
